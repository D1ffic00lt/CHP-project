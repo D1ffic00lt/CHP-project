{
  "cells": [
    {
      "cell_type": "code",
      "execution_count": null,
      "metadata": {
        "id": "yVuzeGvz2mac"
      },
      "outputs": [],
      "source": [
        "import pandas as pd\n",
        "import numpy as np\n",
        "from datetime import datetime"
      ]
    },
    {
      "cell_type": "code",
      "execution_count": 48,
      "metadata": {
        "id": "dZ_n80EG2s6F"
      },
      "outputs": [],
      "source": [
        "data = pd.read_excel(\"Новосибирская_ТЭЦ_2_расчет_пережогов.xlsm\", sheet_name=\"Данные\")[:-3]"
      ]
    },
    {
      "cell_type": "markdown",
      "metadata": {
        "id": "Lczym0W6RJ1l"
      },
      "source": [
        "# **переименовываем колонки**"
      ]
    },
    {
      "cell_type": "code",
      "execution_count": 49,
      "metadata": {
        "id": "09GGRo5AjY2B"
      },
      "outputs": [],
      "source": [
        "data = data.rename(columns={'П': 'P', 'АКС код': 'AKS_code',\n",
        "                    'Описание': 'Description', 'Обозначение': 'Designation',\n",
        "                    'Ед. изм.': 'Unit_of_measure', 'Тип': 'Type'})"
      ]
    },
    {
      "cell_type": "code",
      "execution_count": 52,
      "metadata": {
        "id": "ffeadifIL7uL"
      },
      "outputs": [],
      "source": [
        "for elem in data.iloc[:, 6:-1]:\n",
        "  dataT = str(elem).strip().split()\n",
        "  hour_el = int(dataT[0].replace('ч.', ''))\n",
        "  year_el = int(dataT[1].split('.')[-1])\n",
        "  month_el = int(dataT[1].split('.')[1])\n",
        "  day_el = int(dataT[1].split('.')[0])\n",
        "  data = data.rename(columns={elem: datetime(year=year_el,\n",
        "                                             month=month_el,\n",
        "                                             day=day_el,\n",
        "                                             hour=hour_el)})"
      ]
    },
    {
      "cell_type": "code",
      "execution_count": 60,
      "metadata": {
        "id": "DCA6sMgUPzQd"
      },
      "outputs": [],
      "source": [
        "for elem in data.iloc[:, -1:]:\n",
        "  dataT = str(elem).strip().split()\n",
        "  year_el = int(dataT[0].split('.')[-1])\n",
        "  month_el = int(dataT[0].split('.')[1])\n",
        "  day_el = int(dataT[0].split('.')[0])\n",
        "  data = data.rename(columns={elem: datetime(year=year_el,\n",
        "                                             month=month_el,\n",
        "                                             day=day_el)})"
      ]
    },
    {
      "cell_type": "markdown",
      "metadata": {
        "id": "Oeq79F1FRO47"
      },
      "source": [
        "# **проверяем на пустые значения**"
      ]
    },
    {
      "cell_type": "code",
      "execution_count": 62,
      "metadata": {
        "colab": {
          "base_uri": "https://localhost:8080/"
        },
        "id": "-kCKm-pBQ7eP",
        "outputId": "7ca00c45-7073-48aa-dcf5-bbf264c2a2a8"
      },
      "outputs": [
        {
          "data": {
            "text/plain": [
              "Index([], dtype='object')"
            ]
          },
          "execution_count": 62,
          "metadata": {},
          "output_type": "execute_result"
        }
      ],
      "source": [
        "data.columns[data.isna().any()]"
      ]
    },
    {
      "cell_type": "code",
      "execution_count": null,
      "metadata": {
        "id": "Q169yyb_nhr6"
      },
      "outputs": [],
      "source": []
    }
  ],
  "metadata": {
    "colab": {
      "provenance": []
    },
    "kernelspec": {
      "display_name": "Python 3",
      "name": "python3"
    },
    "language_info": {
      "name": "python",
      "version": "3.10.11"
    }
  },
  "nbformat": 4,
  "nbformat_minor": 0
}
