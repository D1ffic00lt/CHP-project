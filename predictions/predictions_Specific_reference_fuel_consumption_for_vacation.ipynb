{
 "cells": [
  {
   "cell_type": "code",
   "execution_count": 52,
   "metadata": {},
   "outputs": [],
   "source": [
    "import pandas as pd\n",
    "import numpy as np\n",
    "import math\n",
    "\n",
    "from sklearn.metrics import mean_squared_error, mean_absolute_error, r2_score, median_absolute_error\n",
    "\n",
    "from sklearn.model_selection import train_test_split\n",
    "\n",
    "from sklearn.preprocessing import StandardScaler\n",
    "from sklearn.linear_model import LinearRegression\n",
    "from sklearn.ensemble import RandomForestRegressor\n",
    "from sklearn.model_selection import GridSearchCV\n",
    "from sklearn.preprocessing import LabelEncoder\n",
    "\n",
    "from catboost import CatBoostRegressor, Pool, metrics, cv\n",
    "\n",
    "import matplotlib.pyplot as plt\n",
    "import seaborn as sns\n",
    "import math\n",
    "%matplotlib inline"
   ]
  },
  {
   "cell_type": "code",
   "execution_count": 53,
   "metadata": {},
   "outputs": [],
   "source": [
    "sns.set(rc={'figure.figsize': (12, 9)})"
   ]
  },
  {
   "cell_type": "code",
   "execution_count": 54,
   "metadata": {},
   "outputs": [],
   "source": [
    "data = pd.read_excel('Статистика_для_графиков_3_д_ТЭЦ2_УРУТ_130.xlsx', sheet_name='Лист1')"
   ]
  },
  {
   "cell_type": "code",
   "execution_count": 55,
   "metadata": {},
   "outputs": [],
   "source": [
    "data = data.drop(columns=[\"Дата\"]).iloc[:, :-3]"
   ]
  },
  {
   "attachments": {},
   "cell_type": "markdown",
   "metadata": {},
   "source": [
    "## **Проверим на пустые значения**"
   ]
  },
  {
   "cell_type": "code",
   "execution_count": 56,
   "metadata": {},
   "outputs": [
    {
     "data": {
      "text/plain": [
       "Выработка электроэнергии ТА гр.130                        0\n",
       "Отпуск тепла из ТО ТА гр.130                              0\n",
       "Удельный расход условного топлива на отпуск э/э гр.130    0\n",
       "dtype: int64"
      ]
     },
     "execution_count": 56,
     "metadata": {},
     "output_type": "execute_result"
    }
   ],
   "source": [
    "data.isna().sum()"
   ]
  },
  {
   "cell_type": "code",
   "execution_count": 57,
   "metadata": {},
   "outputs": [
    {
     "data": {
      "text/plain": [
       "Выработка электроэнергии ТА гр.130                        float64\n",
       "Отпуск тепла из ТО ТА гр.130                              float64\n",
       "Удельный расход условного топлива на отпуск э/э гр.130    float64\n",
       "dtype: object"
      ]
     },
     "execution_count": 57,
     "metadata": {},
     "output_type": "execute_result"
    }
   ],
   "source": [
    "data.dtypes"
   ]
  },
  {
   "attachments": {},
   "cell_type": "markdown",
   "metadata": {},
   "source": [
    "## **Делим на выборки**"
   ]
  },
  {
   "cell_type": "code",
   "execution_count": 58,
   "metadata": {},
   "outputs": [],
   "source": [
    "X = data.drop(columns=['Удельный расход условного топлива на отпуск э/э гр.130'])\n",
    "Y = data['Удельный расход условного топлива на отпуск э/э гр.130']"
   ]
  },
  {
   "cell_type": "code",
   "execution_count": 81,
   "metadata": {},
   "outputs": [],
   "source": [
    "X_train, X_test, Y_train, Y_test = train_test_split(X, Y, test_size=0.15, random_state=42)"
   ]
  },
  {
   "attachments": {},
   "cell_type": "markdown",
   "metadata": {},
   "source": [
    "## **Подберём модель по которой можно будет предсказывать**"
   ]
  },
  {
   "attachments": {},
   "cell_type": "markdown",
   "metadata": {},
   "source": [
    "**Разберём модели CatBoostRegressor и LinearRegression**"
   ]
  },
  {
   "attachments": {},
   "cell_type": "markdown",
   "metadata": {},
   "source": [
    "### **LinearRegression**"
   ]
  },
  {
   "cell_type": "code",
   "execution_count": 86,
   "metadata": {},
   "outputs": [],
   "source": [
    "lr = LinearRegression()\n",
    "\n",
    "lr.fit(X_train, Y_train)\n",
    "\n",
    "prediction_lr = lr.predict(X_test)"
   ]
  },
  {
   "cell_type": "code",
   "execution_count": 87,
   "metadata": {},
   "outputs": [
    {
     "name": "stdout",
     "output_type": "stream",
     "text": [
      "mean_squared_error: 30.334219784204844\n",
      "mean_absolute_error: 24.082724049740875\n",
      "median_absolute_error: 20.374034095981244\n",
      "r2_score: 0.7161998602530684\n"
     ]
    }
   ],
   "source": [
    "print(f'mean_squared_error: {math.sqrt(mean_squared_error(Y_test, prediction_lr))}')\n",
    "print(f'mean_absolute_error: {mean_absolute_error(Y_test, prediction_lr)}')\n",
    "print(f'median_absolute_error: {median_absolute_error(Y_test, prediction_lr)}')\n",
    "print(f'r2_score: {r2_score(Y_test, prediction_lr)}')"
   ]
  },
  {
   "cell_type": "code",
   "execution_count": 88,
   "metadata": {},
   "outputs": [
    {
     "name": "stdout",
     "output_type": "stream",
     "text": [
      "{'copy_X': True, 'fit_intercept': True, 'n_jobs': -1, 'positive': False}\n"
     ]
    }
   ],
   "source": [
    "LR_pereb = LinearRegression()\n",
    "\n",
    "params = {\n",
    "    'fit_intercept': [True, False],\n",
    "    'copy_X': [True, False],\n",
    "    'n_jobs': [-1],\n",
    "    'positive': [True, False]\n",
    "}\n",
    "\n",
    "# создадим объект GridSearchCV\n",
    "search_LR = GridSearchCV(LR_pereb, params, n_jobs=-1, cv=5, refit=True, scoring='neg_mean_absolute_error')\n",
    "\n",
    "# запустим поиск\n",
    "search_LR.fit(X_train, Y_train)\n",
    "\n",
    "# выведем наилучшие параметры\n",
    "print(search_LR.best_params_)\n",
    "\n",
    "# применяем параметры\n",
    "search_LR = search_LR.best_estimator_\n",
    "\n",
    "prediction_search_LR = search_LR.predict(X_test)"
   ]
  },
  {
   "cell_type": "code",
   "execution_count": 89,
   "metadata": {},
   "outputs": [
    {
     "name": "stdout",
     "output_type": "stream",
     "text": [
      "mean_squared_error: 30.334219784204844\n",
      "mean_absolute_error: 24.082724049740875\n",
      "median_absolute_error: 20.374034095981244\n",
      "r2_score: 0.7161998602530684\n"
     ]
    }
   ],
   "source": [
    "print(f'mean_squared_error: {math.sqrt(mean_squared_error(Y_test, prediction_search_LR))}')\n",
    "print(f'mean_absolute_error: {mean_absolute_error(Y_test, prediction_search_LR)}')\n",
    "print(f'median_absolute_error: {median_absolute_error(Y_test, prediction_search_LR)}')\n",
    "print(f'r2_score: {r2_score(Y_test, prediction_search_LR)}')"
   ]
  },
  {
   "attachments": {},
   "cell_type": "markdown",
   "metadata": {},
   "source": [
    "### **RandomForestRegressor**"
   ]
  },
  {
   "cell_type": "code",
   "execution_count": 90,
   "metadata": {},
   "outputs": [],
   "source": [
    "rfr = RandomForestRegressor()\n",
    "\n",
    "rfr.fit(X_train, Y_train)\n",
    "\n",
    "prediction_rfr = rfr.predict(X_test)"
   ]
  },
  {
   "cell_type": "code",
   "execution_count": 91,
   "metadata": {},
   "outputs": [
    {
     "name": "stdout",
     "output_type": "stream",
     "text": [
      "mean_squared_error: 16.936414198137136\n",
      "mean_absolute_error: 11.634547504085354\n",
      "median_absolute_error: 7.540839864999725\n",
      "r2_score: 0.9115312523818145\n"
     ]
    }
   ],
   "source": [
    "print(f'mean_squared_error: {math.sqrt(mean_squared_error(Y_test, prediction_rfr))}')\n",
    "print(f'mean_absolute_error: {mean_absolute_error(Y_test, prediction_rfr)}')\n",
    "print(f'median_absolute_error: {median_absolute_error(Y_test, prediction_rfr)}')\n",
    "print(f'r2_score: {r2_score(Y_test, prediction_rfr)}')"
   ]
  },
  {
   "cell_type": "code",
   "execution_count": 92,
   "metadata": {},
   "outputs": [
    {
     "name": "stdout",
     "output_type": "stream",
     "text": [
      "{'criterion': 'friedman_mse', 'max_depth': 10, 'min_samples_leaf': 1, 'min_samples_split': 5, 'n_estimators': 100}\n"
     ]
    }
   ],
   "source": [
    "rfr_pereb = RandomForestRegressor()\n",
    "\n",
    "params = {\n",
    "    'n_estimators': [100, 200, 300],\n",
    "    'criterion': ['squared_error', 'absolute_error', 'friedman_mse', 'poisson'],\n",
    "    'max_depth': [3, 4, 6, 10],\n",
    "    'min_samples_split': [2, 4, 5, 6],\n",
    "    'min_samples_leaf': [1, 2, 4, 6]\n",
    "}\n",
    "\n",
    "# создадим объект GridSearchCV\n",
    "search_rfr = GridSearchCV(rfr_pereb, params, n_jobs=-1, cv=5, refit=True, scoring='neg_mean_absolute_error')\n",
    "\n",
    "# запустим поиск\n",
    "search_rfr.fit(X_train, Y_train)\n",
    "\n",
    "# выведем наилучшие параметры\n",
    "print(search_rfr.best_params_)\n",
    "\n",
    "# применяем параметры\n",
    "search_rfr = search_rfr.best_estimator_\n",
    "\n",
    "prediction_search_rfr = search_rfr.predict(X_test)"
   ]
  },
  {
   "cell_type": "code",
   "execution_count": 93,
   "metadata": {},
   "outputs": [
    {
     "name": "stdout",
     "output_type": "stream",
     "text": [
      "mean_squared_error: 17.011550707234832\n",
      "mean_absolute_error: 11.691540507374791\n",
      "median_absolute_error: 7.9696331560739395\n",
      "r2_score: 0.9107445477541116\n"
     ]
    }
   ],
   "source": [
    "print(f'mean_squared_error: {math.sqrt(mean_squared_error(Y_test, prediction_search_rfr))}')\n",
    "print(f'mean_absolute_error: {mean_absolute_error(Y_test, prediction_search_rfr)}')\n",
    "print(f'median_absolute_error: {median_absolute_error(Y_test, prediction_search_rfr)}')\n",
    "print(f'r2_score: {r2_score(Y_test, prediction_search_rfr)}')"
   ]
  },
  {
   "attachments": {},
   "cell_type": "markdown",
   "metadata": {},
   "source": [
    "### **CatBoostRegressor**"
   ]
  },
  {
   "cell_type": "code",
   "execution_count": 94,
   "metadata": {},
   "outputs": [
    {
     "name": "stdout",
     "output_type": "stream",
     "text": [
      "Learning rate set to 0.040449\n",
      "0:\tlearn: 52.6780644\ttotal: 1.22ms\tremaining: 1.21s\n",
      "500:\tlearn: 12.7150954\ttotal: 473ms\tremaining: 471ms\n",
      "999:\tlearn: 10.3321747\ttotal: 946ms\tremaining: 0us\n"
     ]
    }
   ],
   "source": [
    "cbr = CatBoostRegressor()\n",
    "\n",
    "cbr.fit(X_train, Y_train, verbose=500)\n",
    "\n",
    "prediction_cbr = cbr.predict(X_test)"
   ]
  },
  {
   "cell_type": "code",
   "execution_count": 95,
   "metadata": {},
   "outputs": [
    {
     "name": "stdout",
     "output_type": "stream",
     "text": [
      "mean_squared_error: 17.064845516334813\n",
      "mean_absolute_error: 11.83644302898369\n",
      "median_absolute_error: 8.636002482898704\n",
      "r2_score: 0.9101844220316506\n"
     ]
    }
   ],
   "source": [
    "print(f'mean_squared_error: {math.sqrt(mean_squared_error(Y_test, prediction_cbr))}')\n",
    "print(f'mean_absolute_error: {mean_absolute_error(Y_test, prediction_cbr)}')\n",
    "print(f'median_absolute_error: {median_absolute_error(Y_test, prediction_cbr)}')\n",
    "print(f'r2_score: {r2_score(Y_test, prediction_cbr)}')"
   ]
  },
  {
   "cell_type": "code",
   "execution_count": 96,
   "metadata": {},
   "outputs": [
    {
     "name": "stdout",
     "output_type": "stream",
     "text": [
      "Learning rate set to 0.015297\n",
      "0:\tlearn: 53.7887838\ttotal: 7.43ms\tremaining: 37.1s\n",
      "1000:\tlearn: 8.4166479\ttotal: 3.92s\tremaining: 15.7s\n",
      "2000:\tlearn: 6.2242053\ttotal: 8.26s\tremaining: 12.4s\n",
      "3000:\tlearn: 5.2737594\ttotal: 12.8s\tremaining: 8.55s\n",
      "4000:\tlearn: 4.8257370\ttotal: 17.5s\tremaining: 4.37s\n",
      "5000:\tlearn: 4.5870797\ttotal: 22.2s\tremaining: 0us\n"
     ]
    }
   ],
   "source": [
    "cbr_litlleBit_params = CatBoostRegressor(iterations=5001,\n",
    "                                         depth=7,\n",
    "                                         rsm=1,\n",
    "                                         grow_policy='Depthwise',\n",
    "                                         verbose=1000,\n",
    "                                         task_type='GPU'\n",
    "                                        )\n",
    "\n",
    "cbr_litlleBit_params.fit(X_train, Y_train)\n",
    "\n",
    "prediction_cbr_litlleBit_params = cbr_litlleBit_params.predict(X_test)"
   ]
  },
  {
   "cell_type": "code",
   "execution_count": 97,
   "metadata": {},
   "outputs": [
    {
     "name": "stdout",
     "output_type": "stream",
     "text": [
      "mean_squared_error: 19.06027160403372\n",
      "mean_absolute_error: 12.68418627652424\n",
      "median_absolute_error: 8.587262758994399\n",
      "r2_score: 0.8879517400236807\n"
     ]
    }
   ],
   "source": [
    "print(f'mean_squared_error: {math.sqrt(mean_squared_error(Y_test, prediction_cbr_litlleBit_params))}')\n",
    "print(f'mean_absolute_error: {mean_absolute_error(Y_test, prediction_cbr_litlleBit_params)}')\n",
    "print(f'median_absolute_error: {median_absolute_error(Y_test, prediction_cbr_litlleBit_params)}')\n",
    "print(f'r2_score: {r2_score(Y_test, prediction_cbr_litlleBit_params)}')"
   ]
  },
  {
   "cell_type": "code",
   "execution_count": 98,
   "metadata": {},
   "outputs": [
    {
     "name": "stdout",
     "output_type": "stream",
     "text": [
      "0:\tlearn: 54.0892741\ttotal: 7.45ms\tremaining: 37.3s\n",
      "1000:\tlearn: 12.1033936\ttotal: 4.06s\tremaining: 16.2s\n",
      "2000:\tlearn: 9.7791996\ttotal: 8.16s\tremaining: 12.2s\n",
      "3000:\tlearn: 8.7232786\ttotal: 12.6s\tremaining: 8.43s\n",
      "4000:\tlearn: 7.8588536\ttotal: 17.4s\tremaining: 4.34s\n",
      "5000:\tlearn: 7.1429142\ttotal: 22.2s\tremaining: 0us\n"
     ]
    }
   ],
   "source": [
    "search_CBR = CatBoostRegressor(iterations=5001,\n",
    "                                    rsm=1,\n",
    "                                    early_stopping_rounds=100,\n",
    "                                    grow_policy='Depthwise',\n",
    "                                    depth=7,\n",
    "                                    loss_function='RMSE',\n",
    "                                    eval_metric='RMSE',\n",
    "                                    l2_leaf_reg=10,\n",
    "                                    learning_rate=0.01,\n",
    "                                    verbose=1000,\n",
    "                                    task_type='GPU'\n",
    "                                    )\n",
    "\n",
    "search_CBR.fit(X_train, Y_train)\n",
    "\n",
    "prediction_search_CBR = search_CBR.predict(X_test)"
   ]
  },
  {
   "cell_type": "code",
   "execution_count": 99,
   "metadata": {},
   "outputs": [
    {
     "name": "stdout",
     "output_type": "stream",
     "text": [
      "mean_squared_error: 17.79852001665036\n",
      "mean_absolute_error: 11.731893549442056\n",
      "median_absolute_error: 7.527233677762638\n",
      "r2_score: 0.9022954633558516\n"
     ]
    }
   ],
   "source": [
    "print(f'mean_squared_error: {math.sqrt(mean_squared_error(Y_test, prediction_search_CBR))}')\n",
    "print(f'mean_absolute_error: {mean_absolute_error(Y_test, prediction_search_CBR)}')\n",
    "print(f'median_absolute_error: {median_absolute_error(Y_test, prediction_search_CBR)}')\n",
    "print(f'r2_score: {r2_score(Y_test, prediction_search_CBR)}')"
   ]
  },
  {
   "attachments": {},
   "cell_type": "markdown",
   "metadata": {},
   "source": [
    "## **Сделаем таблицу для сравнения результатов**"
   ]
  },
  {
   "cell_type": "code",
   "execution_count": 100,
   "metadata": {},
   "outputs": [],
   "source": [
    "comparison_table = pd.DataFrame(\n",
    "    {'models': ['lr', 'search_LR', 'rfr', 'search_rfr', 'cbr', 'cbr_litlleBit_params', 'search_CBR'],\n",
    "     \n",
    "    'mean_squared_error': [math.sqrt(mean_squared_error(Y_test, prediction_lr)),\n",
    "                            math.sqrt(mean_squared_error(Y_test, prediction_search_LR)),\n",
    "                            math.sqrt(mean_squared_error(Y_test, prediction_rfr)),\n",
    "                            math.sqrt(mean_squared_error(Y_test, prediction_search_rfr)),\n",
    "                            math.sqrt(mean_squared_error(Y_test, prediction_cbr)),\n",
    "                            math.sqrt(mean_squared_error(Y_test, prediction_cbr_litlleBit_params)),\n",
    "                            math.sqrt(mean_squared_error(Y_test, prediction_search_CBR))],\n",
    "\n",
    "    'mean_absolute_error':[mean_absolute_error(Y_test, prediction_lr),\n",
    "                           mean_absolute_error(Y_test, prediction_search_LR),\n",
    "                           mean_absolute_error(Y_test, prediction_rfr),\n",
    "                           mean_absolute_error(Y_test, prediction_search_rfr),\n",
    "                           mean_absolute_error(Y_test, prediction_cbr),\n",
    "                           mean_absolute_error(Y_test, prediction_cbr_litlleBit_params),\n",
    "                           mean_absolute_error(Y_test, prediction_search_CBR)],\\\n",
    "\n",
    "    'median_absolute_error': [median_absolute_error(Y_test, prediction_lr),\n",
    "                              median_absolute_error(Y_test, prediction_search_LR),\n",
    "                              median_absolute_error(Y_test, prediction_rfr),\n",
    "                              median_absolute_error(Y_test, prediction_search_rfr),\n",
    "                              median_absolute_error(Y_test, prediction_cbr),\n",
    "                              median_absolute_error(Y_test, prediction_cbr_litlleBit_params),\n",
    "                              median_absolute_error(Y_test, prediction_search_CBR)],\n",
    "                              \n",
    "    'r2_score': [r2_score(Y_test, prediction_lr), \n",
    "                r2_score(Y_test, prediction_search_LR),\n",
    "                r2_score(Y_test, prediction_rfr),\n",
    "                r2_score(Y_test, prediction_search_rfr),\n",
    "                r2_score(Y_test, prediction_cbr),\n",
    "                r2_score(Y_test, prediction_cbr_litlleBit_params),\n",
    "                r2_score(Y_test, prediction_search_CBR)]\n",
    "    })"
   ]
  },
  {
   "cell_type": "code",
   "execution_count": 101,
   "metadata": {},
   "outputs": [
    {
     "data": {
      "text/html": [
       "<div>\n",
       "<style scoped>\n",
       "    .dataframe tbody tr th:only-of-type {\n",
       "        vertical-align: middle;\n",
       "    }\n",
       "\n",
       "    .dataframe tbody tr th {\n",
       "        vertical-align: top;\n",
       "    }\n",
       "\n",
       "    .dataframe thead th {\n",
       "        text-align: right;\n",
       "    }\n",
       "</style>\n",
       "<table border=\"1\" class=\"dataframe\">\n",
       "  <thead>\n",
       "    <tr style=\"text-align: right;\">\n",
       "      <th></th>\n",
       "      <th>models</th>\n",
       "      <th>mean_squared_error</th>\n",
       "      <th>mean_absolute_error</th>\n",
       "      <th>median_absolute_error</th>\n",
       "      <th>r2_score</th>\n",
       "    </tr>\n",
       "  </thead>\n",
       "  <tbody>\n",
       "    <tr>\n",
       "      <th>0</th>\n",
       "      <td>lr</td>\n",
       "      <td>30.334220</td>\n",
       "      <td>24.082724</td>\n",
       "      <td>20.374034</td>\n",
       "      <td>0.716200</td>\n",
       "    </tr>\n",
       "    <tr>\n",
       "      <th>1</th>\n",
       "      <td>search_LR</td>\n",
       "      <td>30.334220</td>\n",
       "      <td>24.082724</td>\n",
       "      <td>20.374034</td>\n",
       "      <td>0.716200</td>\n",
       "    </tr>\n",
       "    <tr>\n",
       "      <th>2</th>\n",
       "      <td>rfr</td>\n",
       "      <td>16.936414</td>\n",
       "      <td>11.634548</td>\n",
       "      <td>7.540840</td>\n",
       "      <td>0.911531</td>\n",
       "    </tr>\n",
       "    <tr>\n",
       "      <th>3</th>\n",
       "      <td>search_rfr</td>\n",
       "      <td>17.011551</td>\n",
       "      <td>11.691541</td>\n",
       "      <td>7.969633</td>\n",
       "      <td>0.910745</td>\n",
       "    </tr>\n",
       "    <tr>\n",
       "      <th>4</th>\n",
       "      <td>cbr</td>\n",
       "      <td>17.064846</td>\n",
       "      <td>11.836443</td>\n",
       "      <td>8.636002</td>\n",
       "      <td>0.910184</td>\n",
       "    </tr>\n",
       "    <tr>\n",
       "      <th>5</th>\n",
       "      <td>cbr_litlleBit_params</td>\n",
       "      <td>19.060272</td>\n",
       "      <td>12.684186</td>\n",
       "      <td>8.587263</td>\n",
       "      <td>0.887952</td>\n",
       "    </tr>\n",
       "    <tr>\n",
       "      <th>6</th>\n",
       "      <td>search_CBR</td>\n",
       "      <td>17.798520</td>\n",
       "      <td>11.731894</td>\n",
       "      <td>7.527234</td>\n",
       "      <td>0.902295</td>\n",
       "    </tr>\n",
       "  </tbody>\n",
       "</table>\n",
       "</div>"
      ],
      "text/plain": [
       "                 models  mean_squared_error  mean_absolute_error   \n",
       "0                    lr           30.334220            24.082724  \\\n",
       "1             search_LR           30.334220            24.082724   \n",
       "2                   rfr           16.936414            11.634548   \n",
       "3            search_rfr           17.011551            11.691541   \n",
       "4                   cbr           17.064846            11.836443   \n",
       "5  cbr_litlleBit_params           19.060272            12.684186   \n",
       "6            search_CBR           17.798520            11.731894   \n",
       "\n",
       "   median_absolute_error  r2_score  \n",
       "0              20.374034  0.716200  \n",
       "1              20.374034  0.716200  \n",
       "2               7.540840  0.911531  \n",
       "3               7.969633  0.910745  \n",
       "4               8.636002  0.910184  \n",
       "5               8.587263  0.887952  \n",
       "6               7.527234  0.902295  "
      ]
     },
     "execution_count": 101,
     "metadata": {},
     "output_type": "execute_result"
    }
   ],
   "source": [
    "comparison_table"
   ]
  },
  {
   "attachments": {},
   "cell_type": "markdown",
   "metadata": {},
   "source": [
    "## **Из всего этого хоршо подходит CatBoostRegressor из коробки(cbr), но CatBoostRegressor с подкручеными параметрами я бы доверял больше поэтому оставим его тоже**"
   ]
  },
  {
   "attachments": {},
   "cell_type": "markdown",
   "metadata": {},
   "source": [
    "### **Обучим модели на всех данных**"
   ]
  },
  {
   "cell_type": "code",
   "execution_count": 22,
   "metadata": {},
   "outputs": [
    {
     "name": "stdout",
     "output_type": "stream",
     "text": [
      "Learning rate set to 0.041504\n",
      "0:\tlearn: 53.0297492\ttotal: 3.65ms\tremaining: 3.65s\n",
      "500:\tlearn: 12.9915347\ttotal: 1.94s\tremaining: 1.93s\n",
      "999:\tlearn: 10.6172882\ttotal: 3.62s\tremaining: 0us\n"
     ]
    }
   ],
   "source": [
    "cbr.fit(X, Y, verbose=500)\n",
    "\n",
    "prediction_cbr = cbr.predict(X)"
   ]
  },
  {
   "cell_type": "code",
   "execution_count": 23,
   "metadata": {},
   "outputs": [
    {
     "name": "stdout",
     "output_type": "stream",
     "text": [
      "mean_squared_error: 10.617287934592882\n",
      "mean_absolute_error: 8.031329901045604\n",
      "median_absolute_error: 6.3158566975016015\n",
      "r2_score: 0.9623670510823832\n"
     ]
    }
   ],
   "source": [
    "print(f'mean_squared_error: {math.sqrt(mean_squared_error(Y, prediction_cbr))}')\n",
    "print(f'mean_absolute_error: {mean_absolute_error(Y, prediction_cbr)}')\n",
    "print(f'median_absolute_error: {median_absolute_error(Y, prediction_cbr)}')\n",
    "print(f'r2_score: {r2_score(Y, prediction_cbr)}')"
   ]
  },
  {
   "cell_type": "code",
   "execution_count": 24,
   "metadata": {},
   "outputs": [
    {
     "name": "stdout",
     "output_type": "stream",
     "text": [
      "0:\tlearn: 54.4605593\ttotal: 24.3ms\tremaining: 2m 1s\n",
      "1000:\tlearn: 11.9433931\ttotal: 13.5s\tremaining: 53.9s\n",
      "2000:\tlearn: 10.0631596\ttotal: 26s\tremaining: 39s\n",
      "3000:\tlearn: 9.2106337\ttotal: 38.8s\tremaining: 25.8s\n",
      "4000:\tlearn: 8.4801483\ttotal: 53s\tremaining: 13.2s\n",
      "5000:\tlearn: 7.8934117\ttotal: 1m 4s\tremaining: 0us\n"
     ]
    }
   ],
   "source": [
    "search_CBR.fit(X, Y)\n",
    "\n",
    "p = search_CBR.predict(X)"
   ]
  },
  {
   "cell_type": "code",
   "execution_count": 25,
   "metadata": {},
   "outputs": [
    {
     "name": "stdout",
     "output_type": "stream",
     "text": [
      "mean_squared_error: 7.8934187861997955\n",
      "mean_absolute_error: 5.420095459179627\n",
      "median_absolute_error: 3.9967100214070683\n",
      "r2_score: 0.9791996161152253\n"
     ]
    }
   ],
   "source": [
    "print(f'mean_squared_error: {math.sqrt(mean_squared_error(Y, p))}')\n",
    "print(f'mean_absolute_error: {mean_absolute_error(Y, p)}')\n",
    "print(f'median_absolute_error: {median_absolute_error(Y, p)}')\n",
    "print(f'r2_score: {r2_score(Y, p)}')"
   ]
  },
  {
   "cell_type": "code",
   "execution_count": 26,
   "metadata": {},
   "outputs": [
    {
     "name": "stdout",
     "output_type": "stream",
     "text": [
      "Learning rate set to 0.015627\n",
      "0:\tlearn: 54.1521133\ttotal: 13.6ms\tremaining: 1m 8s\n",
      "500:\tlearn: 10.4931945\ttotal: 4.18s\tremaining: 37.6s\n",
      "1000:\tlearn: 8.9197147\ttotal: 8.96s\tremaining: 35.8s\n",
      "1500:\tlearn: 7.8137219\ttotal: 13.3s\tremaining: 31.1s\n",
      "2000:\tlearn: 7.1169246\ttotal: 17.4s\tremaining: 26.1s\n",
      "2500:\tlearn: 6.6773309\ttotal: 21.5s\tremaining: 21.5s\n",
      "3000:\tlearn: 6.3843942\ttotal: 25.7s\tremaining: 17.1s\n",
      "3500:\tlearn: 6.1775073\ttotal: 29.9s\tremaining: 12.8s\n",
      "4000:\tlearn: 6.0349473\ttotal: 34.1s\tremaining: 8.52s\n",
      "4500:\tlearn: 5.9285093\ttotal: 38.7s\tremaining: 4.29s\n",
      "5000:\tlearn: 5.8436646\ttotal: 43.2s\tremaining: 0us\n",
      "0.9885998141934244\n"
     ]
    }
   ],
   "source": [
    "cbr_litlleBit_params.fit(X, Y)"
   ]
  },
  {
   "cell_type": "code",
   "execution_count": 50,
   "metadata": {},
   "outputs": [
    {
     "name": "stdout",
     "output_type": "stream",
     "text": [
      "mean_squared_error: 7.8934187861997955\n",
      "mean_absolute_error: 5.420095459179627\n",
      "median_absolute_error: 3.9967100214070683\n",
      "r2_score: 0.9791996161152253\n"
     ]
    }
   ],
   "source": [
    "print(f'mean_squared_error: {math.sqrt(mean_squared_error(Y, p))}')\n",
    "print(f'mean_absolute_error: {mean_absolute_error(Y, p)}')\n",
    "print(f'median_absolute_error: {median_absolute_error(Y, p)}')\n",
    "print(f'r2_score: {r2_score(Y, p)}')"
   ]
  },
  {
   "attachments": {},
   "cell_type": "markdown",
   "metadata": {},
   "source": [
    "# **Сделаем финальное испытание для моделей**"
   ]
  },
  {
   "attachments": {},
   "cell_type": "markdown",
   "metadata": {},
   "source": [
    "## **Разделим датасет на фичи дат: год, месяц и день**"
   ]
  },
  {
   "cell_type": "code",
   "execution_count": null,
   "metadata": {},
   "outputs": [],
   "source": []
  }
 ],
 "metadata": {
  "kernelspec": {
   "display_name": ".venv",
   "language": "python",
   "name": "python3"
  },
  "language_info": {
   "codemirror_mode": {
    "name": "ipython",
    "version": 3
   },
   "file_extension": ".py",
   "mimetype": "text/x-python",
   "name": "python",
   "nbconvert_exporter": "python",
   "pygments_lexer": "ipython3",
   "version": "3.10.11"
  },
  "orig_nbformat": 4
 },
 "nbformat": 4,
 "nbformat_minor": 2
}
