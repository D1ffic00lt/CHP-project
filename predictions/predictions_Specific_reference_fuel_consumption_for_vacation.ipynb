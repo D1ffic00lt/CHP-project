{
 "cells": [
  {
   "cell_type": "code",
   "execution_count": 80,
   "metadata": {},
   "outputs": [],
   "source": [
    "import pandas as pd\n",
    "import numpy as np\n",
    "import math\n",
    "import joblib\n",
    "\n",
    "from sklearn.metrics import mean_squared_error, mean_absolute_error, r2_score, median_absolute_error\n",
    "\n",
    "from sklearn.model_selection import train_test_split\n",
    "\n",
    "from sklearn.preprocessing import StandardScaler\n",
    "from sklearn.linear_model import LinearRegression\n",
    "from sklearn.ensemble import RandomForestRegressor\n",
    "from sklearn.model_selection import GridSearchCV\n",
    "from sklearn.preprocessing import LabelEncoder\n",
    "\n",
    "from catboost import CatBoostRegressor, Pool, metrics, cv\n",
    "\n",
    "import matplotlib.pyplot as plt\n",
    "import seaborn as sns\n",
    "import math\n",
    "%matplotlib inline"
   ]
  },
  {
   "cell_type": "code",
   "execution_count": 65,
   "metadata": {},
   "outputs": [],
   "source": [
    "data = pd.read_excel('Статистика_для_графиков_3_д_ТЭЦ2_УРУТ_130.xlsx', sheet_name='Лист1')"
   ]
  },
  {
   "cell_type": "code",
   "execution_count": 66,
   "metadata": {},
   "outputs": [],
   "source": [
    "data = data.drop(columns=[\"Дата\"]).iloc[:, :-3]"
   ]
  },
  {
   "attachments": {},
   "cell_type": "markdown",
   "metadata": {},
   "source": [
    "## **Проверим на пустые значения**"
   ]
  },
  {
   "cell_type": "code",
   "execution_count": 67,
   "metadata": {},
   "outputs": [
    {
     "data": {
      "text/plain": [
       "Выработка электроэнергии ТА гр.130                        0\n",
       "Отпуск тепла из ТО ТА гр.130                              0\n",
       "Удельный расход условного топлива на отпуск э/э гр.130    0\n",
       "dtype: int64"
      ]
     },
     "execution_count": 67,
     "metadata": {},
     "output_type": "execute_result"
    }
   ],
   "source": [
    "data.isna().sum()"
   ]
  },
  {
   "cell_type": "code",
   "execution_count": 68,
   "metadata": {},
   "outputs": [
    {
     "data": {
      "text/plain": [
       "Выработка электроэнергии ТА гр.130                        float64\n",
       "Отпуск тепла из ТО ТА гр.130                              float64\n",
       "Удельный расход условного топлива на отпуск э/э гр.130    float64\n",
       "dtype: object"
      ]
     },
     "execution_count": 68,
     "metadata": {},
     "output_type": "execute_result"
    }
   ],
   "source": [
    "data.dtypes"
   ]
  },
  {
   "attachments": {},
   "cell_type": "markdown",
   "metadata": {},
   "source": [
    "## **Делим на выборки**"
   ]
  },
  {
   "cell_type": "code",
   "execution_count": 69,
   "metadata": {},
   "outputs": [],
   "source": [
    "X = data.drop(columns=['Удельный расход условного топлива на отпуск э/э гр.130'])\n",
    "Y = data['Удельный расход условного топлива на отпуск э/э гр.130']"
   ]
  },
  {
   "cell_type": "code",
   "execution_count": 70,
   "metadata": {},
   "outputs": [],
   "source": [
    "X_train, X_test, Y_train, Y_test = train_test_split(X, Y, test_size=0.15, random_state=42)"
   ]
  },
  {
   "attachments": {},
   "cell_type": "markdown",
   "metadata": {},
   "source": [
    "## **Подберём модель по которой можно будет предсказывать**"
   ]
  },
  {
   "attachments": {},
   "cell_type": "markdown",
   "metadata": {},
   "source": [
    "**Разберём модели CatBoostRegressor, RandomForestRegressor и LinearRegression**"
   ]
  },
  {
   "attachments": {},
   "cell_type": "markdown",
   "metadata": {},
   "source": [
    "### **LinearRegression**"
   ]
  },
  {
   "cell_type": "code",
   "execution_count": 8,
   "metadata": {},
   "outputs": [],
   "source": [
    "lr = LinearRegression()\n",
    "\n",
    "lr.fit(X_train, Y_train)\n",
    "\n",
    "prediction_lr = lr.predict(X_test)"
   ]
  },
  {
   "cell_type": "code",
   "execution_count": 9,
   "metadata": {},
   "outputs": [
    {
     "name": "stdout",
     "output_type": "stream",
     "text": [
      "mean_squared_error: 30.334219784204844\n",
      "mean_absolute_error: 24.082724049740875\n",
      "median_absolute_error: 20.374034095981244\n",
      "r2_score: 0.7161998602530684\n"
     ]
    }
   ],
   "source": [
    "print(f'mean_squared_error: {math.sqrt(mean_squared_error(Y_test, prediction_lr))}')\n",
    "print(f'mean_absolute_error: {mean_absolute_error(Y_test, prediction_lr)}')\n",
    "print(f'median_absolute_error: {median_absolute_error(Y_test, prediction_lr)}')\n",
    "print(f'r2_score: {r2_score(Y_test, prediction_lr)}')"
   ]
  },
  {
   "cell_type": "code",
   "execution_count": 10,
   "metadata": {},
   "outputs": [
    {
     "name": "stdout",
     "output_type": "stream",
     "text": [
      "{'copy_X': True, 'fit_intercept': True, 'n_jobs': -1, 'positive': False}\n"
     ]
    }
   ],
   "source": [
    "LR_pereb = LinearRegression()\n",
    "\n",
    "params = {\n",
    "    'fit_intercept': [True, False],\n",
    "    'copy_X': [True, False],\n",
    "    'n_jobs': [-1],\n",
    "    'positive': [True, False]\n",
    "}\n",
    "\n",
    "# создадим объект GridSearchCV\n",
    "search_LR = GridSearchCV(LR_pereb, params, n_jobs=-1, cv=5, refit=True, scoring='neg_mean_absolute_error')\n",
    "\n",
    "# запустим поиск\n",
    "search_LR.fit(X_train, Y_train)\n",
    "\n",
    "# выведем наилучшие параметры\n",
    "print(search_LR.best_params_)\n",
    "\n",
    "# применяем параметры\n",
    "search_LR = search_LR.best_estimator_\n",
    "\n",
    "prediction_search_LR = search_LR.predict(X_test)"
   ]
  },
  {
   "cell_type": "code",
   "execution_count": 11,
   "metadata": {},
   "outputs": [
    {
     "name": "stdout",
     "output_type": "stream",
     "text": [
      "mean_squared_error: 30.334219784204844\n",
      "mean_absolute_error: 24.082724049740875\n",
      "median_absolute_error: 20.374034095981244\n",
      "r2_score: 0.7161998602530684\n"
     ]
    }
   ],
   "source": [
    "print(f'mean_squared_error: {math.sqrt(mean_squared_error(Y_test, prediction_search_LR))}')\n",
    "print(f'mean_absolute_error: {mean_absolute_error(Y_test, prediction_search_LR)}')\n",
    "print(f'median_absolute_error: {median_absolute_error(Y_test, prediction_search_LR)}')\n",
    "print(f'r2_score: {r2_score(Y_test, prediction_search_LR)}')"
   ]
  },
  {
   "attachments": {},
   "cell_type": "markdown",
   "metadata": {},
   "source": [
    "### **RandomForestRegressor**"
   ]
  },
  {
   "cell_type": "code",
   "execution_count": 12,
   "metadata": {},
   "outputs": [],
   "source": [
    "rfr = RandomForestRegressor()\n",
    "\n",
    "rfr.fit(X_train, Y_train)\n",
    "\n",
    "prediction_rfr = rfr.predict(X_test)"
   ]
  },
  {
   "cell_type": "code",
   "execution_count": 13,
   "metadata": {},
   "outputs": [
    {
     "name": "stdout",
     "output_type": "stream",
     "text": [
      "mean_squared_error: 16.89776144099892\n",
      "mean_absolute_error: 11.545244846524394\n",
      "median_absolute_error: 8.130005474999962\n",
      "r2_score: 0.9119346032761959\n"
     ]
    }
   ],
   "source": [
    "print(f'mean_squared_error: {math.sqrt(mean_squared_error(Y_test, prediction_rfr))}')\n",
    "print(f'mean_absolute_error: {mean_absolute_error(Y_test, prediction_rfr)}')\n",
    "print(f'median_absolute_error: {median_absolute_error(Y_test, prediction_rfr)}')\n",
    "print(f'r2_score: {r2_score(Y_test, prediction_rfr)}')"
   ]
  },
  {
   "cell_type": "code",
   "execution_count": 14,
   "metadata": {},
   "outputs": [
    {
     "name": "stdout",
     "output_type": "stream",
     "text": [
      "{'criterion': 'squared_error', 'max_depth': 10, 'min_samples_leaf': 1, 'min_samples_split': 6, 'n_estimators': 200}\n"
     ]
    }
   ],
   "source": [
    "rfr_pereb = RandomForestRegressor()\n",
    "\n",
    "params = {\n",
    "    'n_estimators': [100, 200, 300],\n",
    "    'criterion': ['squared_error', 'absolute_error', 'friedman_mse', 'poisson'],\n",
    "    'max_depth': [3, 4, 6, 10],\n",
    "    'min_samples_split': [2, 4, 5, 6],\n",
    "    'min_samples_leaf': [1, 2, 4, 6]\n",
    "}\n",
    "\n",
    "# создадим объект GridSearchCV\n",
    "search_rfr = GridSearchCV(rfr_pereb, params, n_jobs=-1, cv=5, refit=True, scoring='neg_mean_absolute_error')\n",
    "\n",
    "# запустим поиск\n",
    "search_rfr.fit(X_train, Y_train)\n",
    "\n",
    "# выведем наилучшие параметры\n",
    "print(search_rfr.best_params_)\n",
    "\n",
    "# применяем параметры\n",
    "search_rfr = search_rfr.best_estimator_\n",
    "\n",
    "prediction_search_rfr = search_rfr.predict(X_test)"
   ]
  },
  {
   "cell_type": "code",
   "execution_count": 15,
   "metadata": {},
   "outputs": [
    {
     "name": "stdout",
     "output_type": "stream",
     "text": [
      "mean_squared_error: 16.553171348319225\n",
      "mean_absolute_error: 11.417425851350052\n",
      "median_absolute_error: 7.723452140606781\n",
      "r2_score: 0.9154897535793997\n"
     ]
    }
   ],
   "source": [
    "print(f'mean_squared_error: {math.sqrt(mean_squared_error(Y_test, prediction_search_rfr))}')\n",
    "print(f'mean_absolute_error: {mean_absolute_error(Y_test, prediction_search_rfr)}')\n",
    "print(f'median_absolute_error: {median_absolute_error(Y_test, prediction_search_rfr)}')\n",
    "print(f'r2_score: {r2_score(Y_test, prediction_search_rfr)}')"
   ]
  },
  {
   "attachments": {},
   "cell_type": "markdown",
   "metadata": {},
   "source": [
    "### **CatBoostRegressor**"
   ]
  },
  {
   "cell_type": "code",
   "execution_count": 16,
   "metadata": {},
   "outputs": [
    {
     "name": "stdout",
     "output_type": "stream",
     "text": [
      "Learning rate set to 0.040449\n",
      "0:\tlearn: 52.6780644\ttotal: 122ms\tremaining: 2m 2s\n",
      "500:\tlearn: 12.7150954\ttotal: 998ms\tremaining: 994ms\n",
      "999:\tlearn: 10.3321747\ttotal: 1.86s\tremaining: 0us\n"
     ]
    }
   ],
   "source": [
    "cbr = CatBoostRegressor()\n",
    "\n",
    "cbr.fit(X_train, Y_train, verbose=500)\n",
    "\n",
    "prediction_cbr = cbr.predict(X_test)"
   ]
  },
  {
   "cell_type": "code",
   "execution_count": 17,
   "metadata": {},
   "outputs": [
    {
     "name": "stdout",
     "output_type": "stream",
     "text": [
      "mean_squared_error: 17.064845516334813\n",
      "mean_absolute_error: 11.83644302898369\n",
      "median_absolute_error: 8.636002482898704\n",
      "r2_score: 0.9101844220316506\n"
     ]
    }
   ],
   "source": [
    "print(f'mean_squared_error: {math.sqrt(mean_squared_error(Y_test, prediction_cbr))}')\n",
    "print(f'mean_absolute_error: {mean_absolute_error(Y_test, prediction_cbr)}')\n",
    "print(f'median_absolute_error: {median_absolute_error(Y_test, prediction_cbr)}')\n",
    "print(f'r2_score: {r2_score(Y_test, prediction_cbr)}')"
   ]
  },
  {
   "cell_type": "code",
   "execution_count": 18,
   "metadata": {},
   "outputs": [
    {
     "name": "stdout",
     "output_type": "stream",
     "text": [
      "Learning rate set to 0.015297\n",
      "0:\tlearn: 53.7887838\ttotal: 25.5ms\tremaining: 2m 7s\n",
      "1000:\tlearn: 8.4166479\ttotal: 6.12s\tremaining: 24.5s\n",
      "2000:\tlearn: 6.2242053\ttotal: 13.5s\tremaining: 20.3s\n",
      "3000:\tlearn: 5.2737594\ttotal: 22.9s\tremaining: 15.2s\n",
      "4000:\tlearn: 4.8257370\ttotal: 32.5s\tremaining: 8.13s\n",
      "5000:\tlearn: 4.5870797\ttotal: 42.1s\tremaining: 0us\n"
     ]
    }
   ],
   "source": [
    "cbr_litlleBit_params = CatBoostRegressor(iterations=5001,\n",
    "                                         depth=7,\n",
    "                                         rsm=1,\n",
    "                                         grow_policy='Depthwise',\n",
    "                                         verbose=1000,\n",
    "                                         task_type='GPU'\n",
    "                                        )\n",
    "\n",
    "cbr_litlleBit_params.fit(X_train, Y_train)\n",
    "\n",
    "prediction_cbr_litlleBit_params = cbr_litlleBit_params.predict(X_test)"
   ]
  },
  {
   "cell_type": "code",
   "execution_count": 19,
   "metadata": {},
   "outputs": [
    {
     "name": "stdout",
     "output_type": "stream",
     "text": [
      "mean_squared_error: 19.065083764999827\n",
      "mean_absolute_error: 12.69165368719125\n",
      "median_absolute_error: 8.587262758994399\n",
      "r2_score: 0.8878951550662814\n"
     ]
    }
   ],
   "source": [
    "print(f'mean_squared_error: {math.sqrt(mean_squared_error(Y_test, prediction_cbr_litlleBit_params))}')\n",
    "print(f'mean_absolute_error: {mean_absolute_error(Y_test, prediction_cbr_litlleBit_params)}')\n",
    "print(f'median_absolute_error: {median_absolute_error(Y_test, prediction_cbr_litlleBit_params)}')\n",
    "print(f'r2_score: {r2_score(Y_test, prediction_cbr_litlleBit_params)}')"
   ]
  },
  {
   "cell_type": "code",
   "execution_count": 20,
   "metadata": {},
   "outputs": [
    {
     "name": "stdout",
     "output_type": "stream",
     "text": [
      "0:\tlearn: 54.0892741\ttotal: 12.3ms\tremaining: 1m 1s\n",
      "1000:\tlearn: 12.1033936\ttotal: 9.62s\tremaining: 38.4s\n",
      "2000:\tlearn: 9.7791996\ttotal: 19.5s\tremaining: 29.2s\n",
      "3000:\tlearn: 8.7232786\ttotal: 28.9s\tremaining: 19.3s\n",
      "4000:\tlearn: 7.8588536\ttotal: 38.1s\tremaining: 9.53s\n",
      "5000:\tlearn: 7.1429142\ttotal: 47.3s\tremaining: 0us\n"
     ]
    }
   ],
   "source": [
    "search_CBR = CatBoostRegressor(iterations=5001,\n",
    "                                    rsm=1,\n",
    "                                    early_stopping_rounds=100,\n",
    "                                    grow_policy='Depthwise',\n",
    "                                    depth=7,\n",
    "                                    loss_function='RMSE',\n",
    "                                    eval_metric='RMSE',\n",
    "                                    l2_leaf_reg=10,\n",
    "                                    learning_rate=0.01,\n",
    "                                    verbose=1000,\n",
    "                                    task_type='GPU'\n",
    "                                    )\n",
    "\n",
    "search_CBR.fit(X_train, Y_train)\n",
    "\n",
    "prediction_search_CBR = search_CBR.predict(X_test)"
   ]
  },
  {
   "cell_type": "code",
   "execution_count": 21,
   "metadata": {},
   "outputs": [
    {
     "name": "stdout",
     "output_type": "stream",
     "text": [
      "mean_squared_error: 17.798424903642864\n",
      "mean_absolute_error: 11.73028793187514\n",
      "median_absolute_error: 7.527233677762638\n",
      "r2_score: 0.902296507594079\n"
     ]
    }
   ],
   "source": [
    "print(f'mean_squared_error: {math.sqrt(mean_squared_error(Y_test, prediction_search_CBR))}')\n",
    "print(f'mean_absolute_error: {mean_absolute_error(Y_test, prediction_search_CBR)}')\n",
    "print(f'median_absolute_error: {median_absolute_error(Y_test, prediction_search_CBR)}')\n",
    "print(f'r2_score: {r2_score(Y_test, prediction_search_CBR)}')"
   ]
  },
  {
   "attachments": {},
   "cell_type": "markdown",
   "metadata": {},
   "source": [
    "## **Сделаем таблицу для сравнения результатов**"
   ]
  },
  {
   "cell_type": "code",
   "execution_count": 22,
   "metadata": {},
   "outputs": [],
   "source": [
    "comparison_table = pd.DataFrame(\n",
    "    {'models': ['lr', 'search_LR', 'rfr', 'search_rfr', 'cbr', 'cbr_litlleBit_params', 'search_CBR'],\n",
    "     \n",
    "    'mean_squared_error': [math.sqrt(mean_squared_error(Y_test, prediction_lr)),\n",
    "                            math.sqrt(mean_squared_error(Y_test, prediction_search_LR)),\n",
    "                            math.sqrt(mean_squared_error(Y_test, prediction_rfr)),\n",
    "                            math.sqrt(mean_squared_error(Y_test, prediction_search_rfr)),\n",
    "                            math.sqrt(mean_squared_error(Y_test, prediction_cbr)),\n",
    "                            math.sqrt(mean_squared_error(Y_test, prediction_cbr_litlleBit_params)),\n",
    "                            math.sqrt(mean_squared_error(Y_test, prediction_search_CBR))],\n",
    "\n",
    "    'mean_absolute_error':[mean_absolute_error(Y_test, prediction_lr),\n",
    "                           mean_absolute_error(Y_test, prediction_search_LR),\n",
    "                           mean_absolute_error(Y_test, prediction_rfr),\n",
    "                           mean_absolute_error(Y_test, prediction_search_rfr),\n",
    "                           mean_absolute_error(Y_test, prediction_cbr),\n",
    "                           mean_absolute_error(Y_test, prediction_cbr_litlleBit_params),\n",
    "                           mean_absolute_error(Y_test, prediction_search_CBR)],\\\n",
    "\n",
    "    'median_absolute_error': [median_absolute_error(Y_test, prediction_lr),\n",
    "                              median_absolute_error(Y_test, prediction_search_LR),\n",
    "                              median_absolute_error(Y_test, prediction_rfr),\n",
    "                              median_absolute_error(Y_test, prediction_search_rfr),\n",
    "                              median_absolute_error(Y_test, prediction_cbr),\n",
    "                              median_absolute_error(Y_test, prediction_cbr_litlleBit_params),\n",
    "                              median_absolute_error(Y_test, prediction_search_CBR)],\n",
    "                              \n",
    "    'r2_score': [r2_score(Y_test, prediction_lr), \n",
    "                r2_score(Y_test, prediction_search_LR),\n",
    "                r2_score(Y_test, prediction_rfr),\n",
    "                r2_score(Y_test, prediction_search_rfr),\n",
    "                r2_score(Y_test, prediction_cbr),\n",
    "                r2_score(Y_test, prediction_cbr_litlleBit_params),\n",
    "                r2_score(Y_test, prediction_search_CBR)]\n",
    "    })"
   ]
  },
  {
   "cell_type": "code",
   "execution_count": 23,
   "metadata": {},
   "outputs": [
    {
     "data": {
      "text/html": [
       "<div>\n",
       "<style scoped>\n",
       "    .dataframe tbody tr th:only-of-type {\n",
       "        vertical-align: middle;\n",
       "    }\n",
       "\n",
       "    .dataframe tbody tr th {\n",
       "        vertical-align: top;\n",
       "    }\n",
       "\n",
       "    .dataframe thead th {\n",
       "        text-align: right;\n",
       "    }\n",
       "</style>\n",
       "<table border=\"1\" class=\"dataframe\">\n",
       "  <thead>\n",
       "    <tr style=\"text-align: right;\">\n",
       "      <th></th>\n",
       "      <th>models</th>\n",
       "      <th>mean_squared_error</th>\n",
       "      <th>mean_absolute_error</th>\n",
       "      <th>median_absolute_error</th>\n",
       "      <th>r2_score</th>\n",
       "    </tr>\n",
       "  </thead>\n",
       "  <tbody>\n",
       "    <tr>\n",
       "      <th>0</th>\n",
       "      <td>lr</td>\n",
       "      <td>30.334220</td>\n",
       "      <td>24.082724</td>\n",
       "      <td>20.374034</td>\n",
       "      <td>0.716200</td>\n",
       "    </tr>\n",
       "    <tr>\n",
       "      <th>1</th>\n",
       "      <td>search_LR</td>\n",
       "      <td>30.334220</td>\n",
       "      <td>24.082724</td>\n",
       "      <td>20.374034</td>\n",
       "      <td>0.716200</td>\n",
       "    </tr>\n",
       "    <tr>\n",
       "      <th>2</th>\n",
       "      <td>rfr</td>\n",
       "      <td>16.897761</td>\n",
       "      <td>11.545245</td>\n",
       "      <td>8.130005</td>\n",
       "      <td>0.911935</td>\n",
       "    </tr>\n",
       "    <tr>\n",
       "      <th>3</th>\n",
       "      <td>search_rfr</td>\n",
       "      <td>16.553171</td>\n",
       "      <td>11.417426</td>\n",
       "      <td>7.723452</td>\n",
       "      <td>0.915490</td>\n",
       "    </tr>\n",
       "    <tr>\n",
       "      <th>4</th>\n",
       "      <td>cbr</td>\n",
       "      <td>17.064846</td>\n",
       "      <td>11.836443</td>\n",
       "      <td>8.636002</td>\n",
       "      <td>0.910184</td>\n",
       "    </tr>\n",
       "    <tr>\n",
       "      <th>5</th>\n",
       "      <td>cbr_litlleBit_params</td>\n",
       "      <td>19.065084</td>\n",
       "      <td>12.691654</td>\n",
       "      <td>8.587263</td>\n",
       "      <td>0.887895</td>\n",
       "    </tr>\n",
       "    <tr>\n",
       "      <th>6</th>\n",
       "      <td>search_CBR</td>\n",
       "      <td>17.798425</td>\n",
       "      <td>11.730288</td>\n",
       "      <td>7.527234</td>\n",
       "      <td>0.902297</td>\n",
       "    </tr>\n",
       "  </tbody>\n",
       "</table>\n",
       "</div>"
      ],
      "text/plain": [
       "                 models  mean_squared_error  mean_absolute_error   \n",
       "0                    lr           30.334220            24.082724  \\\n",
       "1             search_LR           30.334220            24.082724   \n",
       "2                   rfr           16.897761            11.545245   \n",
       "3            search_rfr           16.553171            11.417426   \n",
       "4                   cbr           17.064846            11.836443   \n",
       "5  cbr_litlleBit_params           19.065084            12.691654   \n",
       "6            search_CBR           17.798425            11.730288   \n",
       "\n",
       "   median_absolute_error  r2_score  \n",
       "0              20.374034  0.716200  \n",
       "1              20.374034  0.716200  \n",
       "2               8.130005  0.911935  \n",
       "3               7.723452  0.915490  \n",
       "4               8.636002  0.910184  \n",
       "5               8.587263  0.887895  \n",
       "6               7.527234  0.902297  "
      ]
     },
     "execution_count": 23,
     "metadata": {},
     "output_type": "execute_result"
    }
   ],
   "source": [
    "comparison_table"
   ]
  },
  {
   "attachments": {},
   "cell_type": "markdown",
   "metadata": {},
   "source": [
    "## **Из всего этого хоршо подходит CatBoostRegressor из коробки(cbr), но CatBoostRegressor с подкручеными параметрами я бы доверял больше поэтому оставим его тоже. Но и RandomForestRegressor показал себя посмотрим на него тоже и выберим модели для финального испытания**"
   ]
  },
  {
   "attachments": {},
   "cell_type": "markdown",
   "metadata": {},
   "source": [
    "### **Обучим модели на всех данных**"
   ]
  },
  {
   "cell_type": "code",
   "execution_count": 24,
   "metadata": {},
   "outputs": [
    {
     "name": "stdout",
     "output_type": "stream",
     "text": [
      "Learning rate set to 0.041504\n",
      "0:\tlearn: 53.0297492\ttotal: 2.69ms\tremaining: 2.69s\n",
      "500:\tlearn: 12.9915347\ttotal: 857ms\tremaining: 854ms\n",
      "999:\tlearn: 10.6172882\ttotal: 1.73s\tremaining: 0us\n"
     ]
    }
   ],
   "source": [
    "cbr.fit(X, Y, verbose=500)\n",
    "\n",
    "prediction_cbr = cbr.predict(X)"
   ]
  },
  {
   "cell_type": "code",
   "execution_count": 25,
   "metadata": {},
   "outputs": [
    {
     "name": "stdout",
     "output_type": "stream",
     "text": [
      "mean_squared_error: 10.617287934592882\n",
      "mean_absolute_error: 8.031329901045604\n",
      "median_absolute_error: 6.3158566975016015\n",
      "r2_score: 0.9623670510823832\n"
     ]
    }
   ],
   "source": [
    "print(f'mean_squared_error: {math.sqrt(mean_squared_error(Y, prediction_cbr))}')\n",
    "print(f'mean_absolute_error: {mean_absolute_error(Y, prediction_cbr)}')\n",
    "print(f'median_absolute_error: {median_absolute_error(Y, prediction_cbr)}')\n",
    "print(f'r2_score: {r2_score(Y, prediction_cbr)}')"
   ]
  },
  {
   "cell_type": "code",
   "execution_count": 26,
   "metadata": {},
   "outputs": [
    {
     "name": "stdout",
     "output_type": "stream",
     "text": [
      "0:\tlearn: 54.4605593\ttotal: 9.32ms\tremaining: 46.6s\n",
      "1000:\tlearn: 11.9433931\ttotal: 7.67s\tremaining: 30.6s\n",
      "2000:\tlearn: 10.0631596\ttotal: 15.6s\tremaining: 23.4s\n",
      "3000:\tlearn: 9.2106337\ttotal: 25.2s\tremaining: 16.8s\n",
      "4000:\tlearn: 8.4801483\ttotal: 35.1s\tremaining: 8.78s\n",
      "5000:\tlearn: 7.8934117\ttotal: 44.2s\tremaining: 0us\n"
     ]
    }
   ],
   "source": [
    "search_CBR.fit(X, Y)\n",
    "\n",
    "prediction_search_CBR = search_CBR.predict(X)"
   ]
  },
  {
   "cell_type": "code",
   "execution_count": 27,
   "metadata": {},
   "outputs": [
    {
     "name": "stdout",
     "output_type": "stream",
     "text": [
      "mean_squared_error: 7.8934187861997955\n",
      "mean_absolute_error: 5.420095459179627\n",
      "median_absolute_error: 3.9967100214070683\n",
      "r2_score: 0.9791996161152253\n"
     ]
    }
   ],
   "source": [
    "print(f'mean_squared_error: {math.sqrt(mean_squared_error(Y, prediction_search_CBR))}')\n",
    "print(f'mean_absolute_error: {mean_absolute_error(Y, prediction_search_CBR)}')\n",
    "print(f'median_absolute_error: {median_absolute_error(Y, prediction_search_CBR)}')\n",
    "print(f'r2_score: {r2_score(Y, prediction_search_CBR)}')"
   ]
  },
  {
   "cell_type": "code",
   "execution_count": 28,
   "metadata": {},
   "outputs": [
    {
     "name": "stdout",
     "output_type": "stream",
     "text": [
      "Learning rate set to 0.015627\n",
      "0:\tlearn: 54.1521133\ttotal: 15ms\tremaining: 1m 14s\n",
      "1000:\tlearn: 8.9197147\ttotal: 8.31s\tremaining: 33.2s\n",
      "2000:\tlearn: 7.1169246\ttotal: 18.5s\tremaining: 27.8s\n",
      "3000:\tlearn: 6.3843942\ttotal: 28.7s\tremaining: 19.2s\n",
      "4000:\tlearn: 6.0349473\ttotal: 38.5s\tremaining: 9.63s\n",
      "5000:\tlearn: 5.8436646\ttotal: 46.9s\tremaining: 0us\n"
     ]
    }
   ],
   "source": [
    "cbr_litlleBit_params.fit(X, Y)\n",
    "\n",
    "prediction_cbr_litlleBit_params = cbr_litlleBit_params.predict(X)"
   ]
  },
  {
   "cell_type": "code",
   "execution_count": 29,
   "metadata": {},
   "outputs": [
    {
     "name": "stdout",
     "output_type": "stream",
     "text": [
      "mean_squared_error: 5.843666662675375\n",
      "mean_absolute_error: 3.0117361293196465\n",
      "median_absolute_error: 1.6936677063114018\n",
      "r2_score: 0.9885998141934244\n"
     ]
    }
   ],
   "source": [
    "print(f'mean_squared_error: {math.sqrt(mean_squared_error(Y, prediction_cbr_litlleBit_params))}')\n",
    "print(f'mean_absolute_error: {mean_absolute_error(Y, prediction_cbr_litlleBit_params)}')\n",
    "print(f'median_absolute_error: {median_absolute_error(Y, prediction_cbr_litlleBit_params)}')\n",
    "print(f'r2_score: {r2_score(Y, prediction_cbr_litlleBit_params)}')"
   ]
  },
  {
   "cell_type": "code",
   "execution_count": 30,
   "metadata": {},
   "outputs": [],
   "source": [
    "rfr.fit(X, Y)\n",
    "\n",
    "prediction_rfr = rfr.predict(X)"
   ]
  },
  {
   "cell_type": "code",
   "execution_count": 31,
   "metadata": {},
   "outputs": [
    {
     "name": "stdout",
     "output_type": "stream",
     "text": [
      "mean_squared_error: 6.959747985322076\n",
      "mean_absolute_error: 4.638590737247721\n",
      "median_absolute_error: 2.9840464549997137\n",
      "r2_score: 0.9838293272520674\n"
     ]
    }
   ],
   "source": [
    "print(f'mean_squared_error: {math.sqrt(mean_squared_error(Y, prediction_rfr))}')\n",
    "print(f'mean_absolute_error: {mean_absolute_error(Y, prediction_rfr)}')\n",
    "print(f'median_absolute_error: {median_absolute_error(Y, prediction_rfr)}')\n",
    "print(f'r2_score: {r2_score(Y, prediction_rfr)}')"
   ]
  },
  {
   "cell_type": "code",
   "execution_count": 43,
   "metadata": {},
   "outputs": [],
   "source": [
    "search_rfr.fit(X, Y)\n",
    "\n",
    "prediction_search_rfr = search_rfr.predict(X)"
   ]
  },
  {
   "cell_type": "code",
   "execution_count": 44,
   "metadata": {},
   "outputs": [
    {
     "name": "stdout",
     "output_type": "stream",
     "text": [
      "mean_squared_error: 8.414028052151854\n",
      "mean_absolute_error: 5.648280367483874\n",
      "median_absolute_error: 3.838819977198\n",
      "r2_score: 0.9763653610904163\n"
     ]
    }
   ],
   "source": [
    "print(f'mean_squared_error: {math.sqrt(mean_squared_error(Y, prediction_search_rfr))}')\n",
    "print(f'mean_absolute_error: {mean_absolute_error(Y, prediction_search_rfr)}')\n",
    "print(f'median_absolute_error: {median_absolute_error(Y, prediction_search_rfr)}')\n",
    "print(f'r2_score: {r2_score(Y, prediction_search_rfr)}')"
   ]
  },
  {
   "attachments": {},
   "cell_type": "markdown",
   "metadata": {},
   "source": [
    "### **Xммм... Все модели хорошо себя показали. Но проверим их в ещё одном испытании и выберем лучшую**"
   ]
  },
  {
   "attachments": {},
   "cell_type": "markdown",
   "metadata": {},
   "source": [
    "# **Сделаем финальное испытание для моделей**"
   ]
  },
  {
   "attachments": {},
   "cell_type": "markdown",
   "metadata": {},
   "source": [
    "## **Разделим датасет на фичи дат: год, месяц и день**"
   ]
  },
  {
   "cell_type": "code",
   "execution_count": 71,
   "metadata": {},
   "outputs": [],
   "source": [
    "data = pd.read_excel('Статистика_для_графиков_3_д_ТЭЦ2_УРУТ_130.xlsx', sheet_name='Лист1')\\\n",
    "    .iloc[:, :-3]"
   ]
  },
  {
   "attachments": {},
   "cell_type": "markdown",
   "metadata": {},
   "source": [
    "### **Посмотрим на зависимость данных от даты**"
   ]
  },
  {
   "cell_type": "code",
   "execution_count": 72,
   "metadata": {},
   "outputs": [
    {
     "data": {
      "text/plain": [
       "[Text(0.5, 0, 'Date'), Text(0, 0.5, 'Value')]"
      ]
     },
     "execution_count": 72,
     "metadata": {},
     "output_type": "execute_result"
    },
    {
     "data": {
      "image/png": "[encoded data removed]",
      "text/plain": [
       "<Figure size 1200x600 with 1 Axes>"
      ]
     },
     "metadata": {},
     "output_type": "display_data"
    }
   ],
   "source": [
    "sns.set(rc={'figure.figsize': (12, 6)})\n",
    "\n",
    "sns.lineplot(data=data, x='Дата', y='Выработка электроэнергии ТА гр.130')\n",
    "sns.lineplot(data=data, x='Дата', y='Отпуск тепла из ТО ТА гр.130')\n",
    "sns.lineplot(data=data, x='Дата', y='Удельный расход условного топлива на отпуск э/э гр.130').set(xlabel='Date', ylabel='Value')"
   ]
  },
  {
   "attachments": {},
   "cell_type": "markdown",
   "metadata": {},
   "source": [
    "### **Разделим на фичи**"
   ]
  },
  {
   "cell_type": "code",
   "execution_count": 73,
   "metadata": {},
   "outputs": [],
   "source": [
    "date = np.array([[0, 0, 0]], dtype=int)\n",
    "for i in data['Дата']:\n",
    "    date = np.vstack([date, str(i.date()).split(\"-\")])"
   ]
  },
  {
   "cell_type": "code",
   "execution_count": 74,
   "metadata": {},
   "outputs": [],
   "source": [
    "date = date[1:]"
   ]
  },
  {
   "cell_type": "code",
   "execution_count": 75,
   "metadata": {},
   "outputs": [],
   "source": [
    "data['year'] = date[:, 0]\n",
    "data['year'] = data['year'].map(int)\n",
    "\n",
    "data['month'] = date[:, 1]\n",
    "data['month'] = data['month'].map(int)\n",
    "\n",
    "data['day'] = date[:, 2]\n",
    "data['day'] = data['day'].map(int)"
   ]
  },
  {
   "cell_type": "code",
   "execution_count": 76,
   "metadata": {},
   "outputs": [],
   "source": [
    "data = data.drop(columns=['Дата'])"
   ]
  },
  {
   "cell_type": "code",
   "execution_count": 77,
   "metadata": {},
   "outputs": [
    {
     "data": {
      "text/plain": [
       "<Axes: >"
      ]
     },
     "execution_count": 77,
     "metadata": {},
     "output_type": "execute_result"
    },
    {
     "data": {
      "image/png": "[encoded data removed]",
      "text/plain": [
       "<Figure size 900x600 with 2 Axes>"
      ]
     },
     "metadata": {},
     "output_type": "display_data"
    }
   ],
   "source": [
    "dataCorr = data.corr()\n",
    "\n",
    "sns.set(rc={'figure.figsize': (9, 6)})\n",
    "\n",
    "sns.heatmap(dataCorr)"
   ]
  },
  {
   "attachments": {},
   "cell_type": "markdown",
   "metadata": {},
   "source": [
    "### **Делим на тестовую и тренировочную**"
   ]
  },
  {
   "cell_type": "code",
   "execution_count": 78,
   "metadata": {},
   "outputs": [],
   "source": [
    "X_WITH_FICH = data.drop(columns=['Удельный расход условного топлива на отпуск э/э гр.130'])\n",
    "Y_WITH_FICH = data['Удельный расход условного топлива на отпуск э/э гр.130']"
   ]
  },
  {
   "cell_type": "code",
   "execution_count": 79,
   "metadata": {},
   "outputs": [],
   "source": [
    "X_train, X_test, Y_train, Y_test = train_test_split(X_WITH_FICH, Y_WITH_FICH, test_size=0.15, random_state=42)"
   ]
  },
  {
   "attachments": {},
   "cell_type": "markdown",
   "metadata": {},
   "source": [
    "### **Протестируем модели**"
   ]
  },
  {
   "cell_type": "code",
   "execution_count": 51,
   "metadata": {},
   "outputs": [
    {
     "name": "stdout",
     "output_type": "stream",
     "text": [
      "Learning rate set to 0.040449\n",
      "0:\tlearn: 52.6619158\ttotal: 1.98ms\tremaining: 1.98s\n",
      "500:\tlearn: 8.5814461\ttotal: 841ms\tremaining: 838ms\n",
      "999:\tlearn: 5.8605906\ttotal: 2s\tremaining: 0us\n"
     ]
    }
   ],
   "source": [
    "cbr.fit(X_train, Y_train, verbose=500)\n",
    "\n",
    "prediction_cbr = cbr.predict(X_test)"
   ]
  },
  {
   "cell_type": "code",
   "execution_count": 53,
   "metadata": {},
   "outputs": [
    {
     "name": "stdout",
     "output_type": "stream",
     "text": [
      "Learning rate set to 0.015297\n",
      "0:\tlearn: 53.7896521\ttotal: 11.7ms\tremaining: 58.3s\n",
      "1000:\tlearn: 4.2127034\ttotal: 6.63s\tremaining: 26.5s\n",
      "2000:\tlearn: 1.5829102\ttotal: 16.1s\tremaining: 24.2s\n",
      "3000:\tlearn: 0.7150988\ttotal: 25.1s\tremaining: 16.7s\n",
      "4000:\tlearn: 0.3457043\ttotal: 33.3s\tremaining: 8.33s\n",
      "5000:\tlearn: 0.1740896\ttotal: 41.5s\tremaining: 0us\n"
     ]
    }
   ],
   "source": [
    "cbr_litlleBit_params.fit(X_train, Y_train)\n",
    "\n",
    "prediction_cbr_litlleBit_params = cbr_litlleBit_params.predict(X_test)"
   ]
  },
  {
   "cell_type": "code",
   "execution_count": 55,
   "metadata": {},
   "outputs": [
    {
     "name": "stdout",
     "output_type": "stream",
     "text": [
      "0:\tlearn: 54.1129753\ttotal: 16ms\tremaining: 1m 19s\n",
      "1000:\tlearn: 9.2417255\ttotal: 7.87s\tremaining: 31.4s\n",
      "2000:\tlearn: 6.0383015\ttotal: 17.9s\tremaining: 26.8s\n",
      "3000:\tlearn: 4.5368860\ttotal: 25.8s\tremaining: 17.2s\n",
      "4000:\tlearn: 3.2994760\ttotal: 33.9s\tremaining: 8.47s\n",
      "5000:\tlearn: 2.4177300\ttotal: 42.1s\tremaining: 0us\n"
     ]
    }
   ],
   "source": [
    "search_CBR.fit(X_train, Y_train)\n",
    "\n",
    "prediction_search_CBR = search_CBR.predict(X_test)"
   ]
  },
  {
   "cell_type": "code",
   "execution_count": 57,
   "metadata": {},
   "outputs": [],
   "source": [
    "rfr.fit(X_train, Y_train)\n",
    "\n",
    "prediction_rfr = rfr.predict(X_test)"
   ]
  },
  {
   "cell_type": "code",
   "execution_count": 59,
   "metadata": {},
   "outputs": [],
   "source": [
    "search_rfr.fit(X_train, Y_train)\n",
    "\n",
    "prediction_search_rfr = search_rfr.predict(X_test)"
   ]
  },
  {
   "cell_type": "code",
   "execution_count": 62,
   "metadata": {},
   "outputs": [
    {
     "data": {
      "text/html": [
       "<div>\n",
       "<style scoped>\n",
       "    .dataframe tbody tr th:only-of-type {\n",
       "        vertical-align: middle;\n",
       "    }\n",
       "\n",
       "    .dataframe tbody tr th {\n",
       "        vertical-align: top;\n",
       "    }\n",
       "\n",
       "    .dataframe thead th {\n",
       "        text-align: right;\n",
       "    }\n",
       "</style>\n",
       "<table border=\"1\" class=\"dataframe\">\n",
       "  <thead>\n",
       "    <tr style=\"text-align: right;\">\n",
       "      <th></th>\n",
       "      <th>models</th>\n",
       "      <th>mean_squared_error</th>\n",
       "      <th>mean_absolute_error</th>\n",
       "      <th>median_absolute_error</th>\n",
       "      <th>r2_score</th>\n",
       "    </tr>\n",
       "  </thead>\n",
       "  <tbody>\n",
       "    <tr>\n",
       "      <th>0</th>\n",
       "      <td>rfr</td>\n",
       "      <td>11.321137</td>\n",
       "      <td>8.118734</td>\n",
       "      <td>6.101382</td>\n",
       "      <td>0.960470</td>\n",
       "    </tr>\n",
       "    <tr>\n",
       "      <th>1</th>\n",
       "      <td>search_rfr</td>\n",
       "      <td>12.010967</td>\n",
       "      <td>8.760165</td>\n",
       "      <td>6.927643</td>\n",
       "      <td>0.955506</td>\n",
       "    </tr>\n",
       "    <tr>\n",
       "      <th>2</th>\n",
       "      <td>cbr</td>\n",
       "      <td>11.500480</td>\n",
       "      <td>8.403751</td>\n",
       "      <td>6.286031</td>\n",
       "      <td>0.959208</td>\n",
       "    </tr>\n",
       "    <tr>\n",
       "      <th>3</th>\n",
       "      <td>cbr_litlleBit_params</td>\n",
       "      <td>11.854771</td>\n",
       "      <td>8.273562</td>\n",
       "      <td>5.769244</td>\n",
       "      <td>0.956656</td>\n",
       "    </tr>\n",
       "    <tr>\n",
       "      <th>4</th>\n",
       "      <td>search_CBR</td>\n",
       "      <td>12.150026</td>\n",
       "      <td>8.371352</td>\n",
       "      <td>5.663205</td>\n",
       "      <td>0.954470</td>\n",
       "    </tr>\n",
       "  </tbody>\n",
       "</table>\n",
       "</div>"
      ],
      "text/plain": [
       "                 models  mean_squared_error  mean_absolute_error   \n",
       "0                   rfr           11.321137             8.118734  \\\n",
       "1            search_rfr           12.010967             8.760165   \n",
       "2                   cbr           11.500480             8.403751   \n",
       "3  cbr_litlleBit_params           11.854771             8.273562   \n",
       "4            search_CBR           12.150026             8.371352   \n",
       "\n",
       "   median_absolute_error  r2_score  \n",
       "0               6.101382  0.960470  \n",
       "1               6.927643  0.955506  \n",
       "2               6.286031  0.959208  \n",
       "3               5.769244  0.956656  \n",
       "4               5.663205  0.954470  "
      ]
     },
     "execution_count": 62,
     "metadata": {},
     "output_type": "execute_result"
    }
   ],
   "source": [
    "comparison_table = pd.DataFrame(\n",
    "    {'models': ['rfr', 'search_rfr', 'cbr', 'cbr_litlleBit_params', 'search_CBR'],\n",
    "     \n",
    "    'mean_squared_error': [math.sqrt(mean_squared_error(Y_test, prediction_rfr)),\n",
    "                            math.sqrt(mean_squared_error(Y_test, prediction_search_rfr)),\n",
    "                            math.sqrt(mean_squared_error(Y_test, prediction_cbr)),\n",
    "                            math.sqrt(mean_squared_error(Y_test, prediction_cbr_litlleBit_params)),\n",
    "                            math.sqrt(mean_squared_error(Y_test, prediction_search_CBR))],\n",
    "\n",
    "    'mean_absolute_error':[mean_absolute_error(Y_test, prediction_rfr),\n",
    "                           mean_absolute_error(Y_test, prediction_search_rfr),\n",
    "                           mean_absolute_error(Y_test, prediction_cbr),\n",
    "                           mean_absolute_error(Y_test, prediction_cbr_litlleBit_params),\n",
    "                           mean_absolute_error(Y_test, prediction_search_CBR)],\\\n",
    "\n",
    "    'median_absolute_error': [median_absolute_error(Y_test, prediction_rfr),\n",
    "                              median_absolute_error(Y_test, prediction_search_rfr),\n",
    "                              median_absolute_error(Y_test, prediction_cbr),\n",
    "                              median_absolute_error(Y_test, prediction_cbr_litlleBit_params),\n",
    "                              median_absolute_error(Y_test, prediction_search_CBR)],\n",
    "                              \n",
    "    'r2_score': [r2_score(Y_test, prediction_rfr),\n",
    "                r2_score(Y_test, prediction_search_rfr),\n",
    "                r2_score(Y_test, prediction_cbr),\n",
    "                r2_score(Y_test, prediction_cbr_litlleBit_params),\n",
    "                r2_score(Y_test, prediction_search_CBR)]\n",
    "    })\n",
    "comparison_table"
   ]
  },
  {
   "attachments": {},
   "cell_type": "markdown",
   "metadata": {},
   "source": [
    "# **Поданным результатам я бы выделил два победителя rfr и cbr_litlleBit_params так что сохраним два их вида предваритеьно обучив**"
   ]
  },
  {
   "cell_type": "code",
   "execution_count": 81,
   "metadata": {},
   "outputs": [
    {
     "name": "stdout",
     "output_type": "stream",
     "text": [
      "Learning rate set to 0.015627\n",
      "0:\tlearn: 54.1470157\ttotal: 12ms\tremaining: 1m\n",
      "1000:\tlearn: 4.1324147\ttotal: 7.84s\tremaining: 31.4s\n",
      "2000:\tlearn: 1.6649318\ttotal: 17.2s\tremaining: 25.8s\n",
      "3000:\tlearn: 0.7944061\ttotal: 27.3s\tremaining: 18.2s\n",
      "4000:\tlearn: 0.4017731\ttotal: 37.4s\tremaining: 9.34s\n",
      "5000:\tlearn: 0.2106603\ttotal: 47.2s\tremaining: 0us\n"
     ]
    },
    {
     "data": {
      "text/plain": [
       "['cbr_litlleBit_params_WITH_FICH.pkl']"
      ]
     },
     "execution_count": 81,
     "metadata": {},
     "output_type": "execute_result"
    }
   ],
   "source": [
    "cbr_litlleBit_params.fit(X_WITH_FICH, Y_WITH_FICH)\n",
    "\n",
    "prediction_cbr_litlleBit_params_Fich = cbr_litlleBit_params.predict(X_WITH_FICH)\n",
    "\n",
    "joblib.dump(cbr_litlleBit_params, 'cbr_litlleBit_params_WITH_FICH.pkl')"
   ]
  },
  {
   "cell_type": "code",
   "execution_count": 82,
   "metadata": {},
   "outputs": [
    {
     "name": "stdout",
     "output_type": "stream",
     "text": [
      "Learning rate set to 0.015627\n",
      "0:\tlearn: 54.1521133\ttotal: 14.4ms\tremaining: 1m 12s\n",
      "1000:\tlearn: 8.9197147\ttotal: 8.2s\tremaining: 32.8s\n",
      "2000:\tlearn: 7.1169246\ttotal: 17.7s\tremaining: 26.5s\n",
      "3000:\tlearn: 6.3843942\ttotal: 26.6s\tremaining: 17.8s\n",
      "4000:\tlearn: 6.0349473\ttotal: 35.6s\tremaining: 8.9s\n",
      "5000:\tlearn: 5.8436646\ttotal: 46.8s\tremaining: 0us\n"
     ]
    },
    {
     "data": {
      "text/plain": [
       "['cbr_litlleBit_params_notWITH_FICH.pkl']"
      ]
     },
     "execution_count": 82,
     "metadata": {},
     "output_type": "execute_result"
    }
   ],
   "source": [
    "cbr_litlleBit_params.fit(X, Y)\n",
    "\n",
    "prediction_cbr_litlleBit_params = cbr_litlleBit_params.predict(X)\n",
    "\n",
    "joblib.dump(cbr_litlleBit_params, 'cbr_litlleBit_params_notWITH_FICH.pkl')"
   ]
  },
  {
   "cell_type": "code",
   "execution_count": 84,
   "metadata": {},
   "outputs": [
    {
     "data": {
      "text/plain": [
       "['rfr_WITH_FICH.pkl']"
      ]
     },
     "execution_count": 84,
     "metadata": {},
     "output_type": "execute_result"
    }
   ],
   "source": [
    "rfr.fit(X_WITH_FICH, Y_WITH_FICH)\n",
    "\n",
    "prediction_rfr_Fich = rfr.predict(X_WITH_FICH)\n",
    "\n",
    "joblib.dump(rfr, 'rfr_WITH_FICH.pkl')"
   ]
  },
  {
   "cell_type": "code",
   "execution_count": 85,
   "metadata": {},
   "outputs": [
    {
     "data": {
      "text/plain": [
       "['rfr_notWITH_FICH.pkl']"
      ]
     },
     "execution_count": 85,
     "metadata": {},
     "output_type": "execute_result"
    }
   ],
   "source": [
    "rfr.fit(X, Y)\n",
    "\n",
    "prediction_rfr = rfr.predict(X)\n",
    "\n",
    "joblib.dump(rfr, 'rfr_notWITH_FICH.pkl')"
   ]
  },
  {
   "cell_type": "code",
   "execution_count": 87,
   "metadata": {},
   "outputs": [
    {
     "data": {
      "text/html": [
       "<div>\n",
       "<style scoped>\n",
       "    .dataframe tbody tr th:only-of-type {\n",
       "        vertical-align: middle;\n",
       "    }\n",
       "\n",
       "    .dataframe tbody tr th {\n",
       "        vertical-align: top;\n",
       "    }\n",
       "\n",
       "    .dataframe thead th {\n",
       "        text-align: right;\n",
       "    }\n",
       "</style>\n",
       "<table border=\"1\" class=\"dataframe\">\n",
       "  <thead>\n",
       "    <tr style=\"text-align: right;\">\n",
       "      <th></th>\n",
       "      <th>models</th>\n",
       "      <th>mean_squared_error</th>\n",
       "      <th>mean_absolute_error</th>\n",
       "      <th>median_absolute_error</th>\n",
       "      <th>r2_score</th>\n",
       "    </tr>\n",
       "  </thead>\n",
       "  <tbody>\n",
       "    <tr>\n",
       "      <th>0</th>\n",
       "      <td>rfr</td>\n",
       "      <td>7.037606</td>\n",
       "      <td>4.628736</td>\n",
       "      <td>2.971568</td>\n",
       "      <td>0.983466</td>\n",
       "    </tr>\n",
       "    <tr>\n",
       "      <th>1</th>\n",
       "      <td>rfr_Fich</td>\n",
       "      <td>0.210653</td>\n",
       "      <td>0.162553</td>\n",
       "      <td>0.127812</td>\n",
       "      <td>0.999985</td>\n",
       "    </tr>\n",
       "    <tr>\n",
       "      <th>2</th>\n",
       "      <td>cbr_litlleBit_params</td>\n",
       "      <td>5.843667</td>\n",
       "      <td>3.011736</td>\n",
       "      <td>1.693668</td>\n",
       "      <td>0.988600</td>\n",
       "    </tr>\n",
       "    <tr>\n",
       "      <th>3</th>\n",
       "      <td>cbr_litlleBit_params_Fich</td>\n",
       "      <td>0.210653</td>\n",
       "      <td>0.162553</td>\n",
       "      <td>0.127812</td>\n",
       "      <td>0.999985</td>\n",
       "    </tr>\n",
       "  </tbody>\n",
       "</table>\n",
       "</div>"
      ],
      "text/plain": [
       "                      models  mean_squared_error  mean_absolute_error   \n",
       "0                        rfr            7.037606             4.628736  \\\n",
       "1                   rfr_Fich            0.210653             0.162553   \n",
       "2       cbr_litlleBit_params            5.843667             3.011736   \n",
       "3  cbr_litlleBit_params_Fich            0.210653             0.162553   \n",
       "\n",
       "   median_absolute_error  r2_score  \n",
       "0               2.971568  0.983466  \n",
       "1               0.127812  0.999985  \n",
       "2               1.693668  0.988600  \n",
       "3               0.127812  0.999985  "
      ]
     },
     "execution_count": 87,
     "metadata": {},
     "output_type": "execute_result"
    }
   ],
   "source": [
    "comparison_table = pd.DataFrame(\n",
    "    {'models': ['rfr', 'rfr_Fich', 'cbr_litlleBit_params', 'cbr_litlleBit_params_Fich'],\n",
    "     \n",
    "    'mean_squared_error': [math.sqrt(mean_squared_error(Y, prediction_rfr)),\n",
    "                            math.sqrt(mean_squared_error(Y_WITH_FICH, prediction_cbr_litlleBit_params_Fich)),\n",
    "                            math.sqrt(mean_squared_error(Y, prediction_cbr_litlleBit_params)),\n",
    "                            math.sqrt(mean_squared_error(Y_WITH_FICH, prediction_cbr_litlleBit_params_Fich))],\n",
    "\n",
    "    'mean_absolute_error':[mean_absolute_error(Y, prediction_rfr),\n",
    "                           mean_absolute_error(Y_WITH_FICH, prediction_cbr_litlleBit_params_Fich),\n",
    "                           mean_absolute_error(Y, prediction_cbr_litlleBit_params),\n",
    "                           mean_absolute_error(Y_WITH_FICH, prediction_cbr_litlleBit_params_Fich)],\\\n",
    "\n",
    "    'median_absolute_error': [median_absolute_error(Y, prediction_rfr),\n",
    "                              median_absolute_error(Y_WITH_FICH, prediction_cbr_litlleBit_params_Fich),\n",
    "                              median_absolute_error(Y, prediction_cbr_litlleBit_params),\n",
    "                              median_absolute_error(Y_WITH_FICH, prediction_cbr_litlleBit_params_Fich)],\n",
    "                              \n",
    "    'r2_score': [r2_score(Y, prediction_rfr),\n",
    "                r2_score(Y_WITH_FICH, prediction_cbr_litlleBit_params_Fich),\n",
    "                r2_score(Y, prediction_cbr_litlleBit_params),\n",
    "                r2_score(Y_WITH_FICH, prediction_cbr_litlleBit_params_Fich)]\n",
    "    })\n",
    "comparison_table"
   ]
  }
 ],
 "metadata": {
  "kernelspec": {
   "display_name": ".venv",
   "language": "python",
   "name": "python3"
  },
  "language_info": {
   "codemirror_mode": {
    "name": "ipython",
    "version": 3
   },
   "file_extension": ".py",
   "mimetype": "text/x-python",
   "name": "python",
   "nbconvert_exporter": "python",
   "pygments_lexer": "ipython3",
   "version": "3.10.11"
  },
  "orig_nbformat": 4
 },
 "nbformat": 4,
 "nbformat_minor": 2
}
