{
 "cells": [
  {
   "cell_type": "code",
   "execution_count": 1,
   "metadata": {},
   "outputs": [],
   "source": [
    "import pandas as pd\n",
    "import numpy as np\n",
    "import math\n",
    "\n",
    "from sklearn.metrics import mean_squared_error, mean_absolute_error, r2_score, median_absolute_error\n",
    "\n",
    "from sklearn.model_selection import train_test_split\n",
    "\n",
    "from sklearn.preprocessing import StandardScaler\n",
    "from sklearn.linear_model import LinearRegression\n",
    "from sklearn.model_selection import GridSearchCV\n",
    "from sklearn.preprocessing import LabelEncoder\n",
    "\n",
    "from catboost import CatBoostRegressor, Pool, metrics, cv\n",
    "\n",
    "import matplotlib.pyplot as plt\n",
    "import seaborn as sns\n",
    "import math\n",
    "%matplotlib inline"
   ]
  },
  {
   "cell_type": "code",
   "execution_count": 2,
   "metadata": {},
   "outputs": [],
   "source": [
    "sns.set(rc={'figure.figsize': (12, 9)})"
   ]
  },
  {
   "cell_type": "code",
   "execution_count": 3,
   "metadata": {},
   "outputs": [],
   "source": [
    "data = pd.read_excel('Статистика_для_графиков_3_д_ТЭЦ2_УРУТ_130.xlsx', sheet_name='Лист1')"
   ]
  },
  {
   "cell_type": "code",
   "execution_count": 4,
   "metadata": {},
   "outputs": [],
   "source": [
    "data = data.drop(columns=[\"Дата\"]).iloc[:, :-3]"
   ]
  },
  {
   "attachments": {},
   "cell_type": "markdown",
   "metadata": {},
   "source": [
    "## **Проверим на пустые значения**"
   ]
  },
  {
   "cell_type": "code",
   "execution_count": 5,
   "metadata": {},
   "outputs": [
    {
     "data": {
      "text/plain": [
       "Выработка электроэнергии ТА гр.130                        0\n",
       "Отпуск тепла из ТО ТА гр.130                              0\n",
       "Удельный расход условного топлива на отпуск э/э гр.130    0\n",
       "dtype: int64"
      ]
     },
     "execution_count": 5,
     "metadata": {},
     "output_type": "execute_result"
    }
   ],
   "source": [
    "data.isna().sum()"
   ]
  },
  {
   "cell_type": "code",
   "execution_count": 6,
   "metadata": {},
   "outputs": [
    {
     "data": {
      "text/plain": [
       "Выработка электроэнергии ТА гр.130                        float64\n",
       "Отпуск тепла из ТО ТА гр.130                              float64\n",
       "Удельный расход условного топлива на отпуск э/э гр.130    float64\n",
       "dtype: object"
      ]
     },
     "execution_count": 6,
     "metadata": {},
     "output_type": "execute_result"
    }
   ],
   "source": [
    "data.dtypes"
   ]
  },
  {
   "attachments": {},
   "cell_type": "markdown",
   "metadata": {},
   "source": [
    "## **Делим на выборки**"
   ]
  },
  {
   "cell_type": "code",
   "execution_count": 7,
   "metadata": {},
   "outputs": [],
   "source": [
    "X = data.drop(columns=['Удельный расход условного топлива на отпуск э/э гр.130'])\n",
    "Y = data['Удельный расход условного топлива на отпуск э/э гр.130']"
   ]
  },
  {
   "cell_type": "code",
   "execution_count": 8,
   "metadata": {},
   "outputs": [],
   "source": [
    "X_train, X_test, Y_train, Y_test = train_test_split(X, Y, test_size=0.15, random_state=50)"
   ]
  },
  {
   "attachments": {},
   "cell_type": "markdown",
   "metadata": {},
   "source": [
    "## **Подберём модель по которой можно будет предсказывать**"
   ]
  },
  {
   "attachments": {},
   "cell_type": "markdown",
   "metadata": {},
   "source": [
    "**Разберём модели CatBoostRegressor и LinearRegression**"
   ]
  },
  {
   "attachments": {},
   "cell_type": "markdown",
   "metadata": {},
   "source": [
    "### **LinearRegression**"
   ]
  },
  {
   "cell_type": "code",
   "execution_count": 9,
   "metadata": {},
   "outputs": [],
   "source": [
    "lr = LinearRegression()\n",
    "\n",
    "lr.fit(X_train, Y_train)\n",
    "\n",
    "prediction_lr = lr.predict(X_test)"
   ]
  },
  {
   "cell_type": "code",
   "execution_count": 10,
   "metadata": {},
   "outputs": [
    {
     "name": "stdout",
     "output_type": "stream",
     "text": [
      "mean_squared_error: 29.88321972358573\n",
      "mean_absolute_error: 22.01786423363523\n",
      "median_absolute_error: 18.722099663604354\n",
      "r2_score: 0.7407035000237302\n"
     ]
    }
   ],
   "source": [
    "print(f'mean_squared_error: {math.sqrt(mean_squared_error(Y_test, prediction_lr))}')\n",
    "print(f'mean_absolute_error: {mean_absolute_error(Y_test, prediction_lr)}')\n",
    "print(f'median_absolute_error: {median_absolute_error(Y_test, prediction_lr)}')\n",
    "print(f'r2_score: {r2_score(Y_test, prediction_lr)}')"
   ]
  },
  {
   "cell_type": "code",
   "execution_count": 11,
   "metadata": {},
   "outputs": [
    {
     "name": "stdout",
     "output_type": "stream",
     "text": [
      "{'copy_X': True, 'fit_intercept': True, 'n_jobs': -1, 'positive': False}\n"
     ]
    }
   ],
   "source": [
    "LR_pereb = LinearRegression()\n",
    "\n",
    "params = {\n",
    "    'fit_intercept': [True, False],\n",
    "    'copy_X': [True, False],\n",
    "    'n_jobs': [-1],\n",
    "    'positive': [True, False]\n",
    "}\n",
    "\n",
    "# создадим объект GridSearchCV\n",
    "search_LR = GridSearchCV(LR_pereb, params, n_jobs=-1, cv=5, refit=True, scoring='neg_mean_absolute_error')\n",
    "\n",
    "# запустим поиск\n",
    "search_LR.fit(X_train, Y_train)\n",
    "\n",
    "# выведем наилучшие параметры\n",
    "print(search_LR.best_params_)\n",
    "\n",
    "# применяем параметры\n",
    "search_LR = search_LR.best_estimator_\n",
    "\n",
    "prediction_search_LR = search_LR.predict(X_test)"
   ]
  },
  {
   "cell_type": "code",
   "execution_count": 12,
   "metadata": {},
   "outputs": [
    {
     "name": "stdout",
     "output_type": "stream",
     "text": [
      "mean_squared_error: 29.88321972358573\n",
      "mean_absolute_error: 22.01786423363523\n",
      "median_absolute_error: 18.722099663604354\n",
      "r2_score: 0.7407035000237302\n"
     ]
    }
   ],
   "source": [
    "print(f'mean_squared_error: {math.sqrt(mean_squared_error(Y_test, prediction_search_LR))}')\n",
    "print(f'mean_absolute_error: {mean_absolute_error(Y_test, prediction_search_LR)}')\n",
    "print(f'median_absolute_error: {median_absolute_error(Y_test, prediction_search_LR)}')\n",
    "print(f'r2_score: {r2_score(Y_test, prediction_search_LR)}')"
   ]
  },
  {
   "attachments": {},
   "cell_type": "markdown",
   "metadata": {},
   "source": [
    "### **CatBoostRegressor**"
   ]
  },
  {
   "cell_type": "code",
   "execution_count": 13,
   "metadata": {},
   "outputs": [
    {
     "name": "stdout",
     "output_type": "stream",
     "text": [
      "Learning rate set to 0.040449\n",
      "0:\tlearn: 52.3631128\ttotal: 124ms\tremaining: 2m 3s\n",
      "500:\tlearn: 12.7735390\ttotal: 1.24s\tremaining: 1.24s\n",
      "999:\tlearn: 10.3427633\ttotal: 2.3s\tremaining: 0us\n"
     ]
    }
   ],
   "source": [
    "cbr = CatBoostRegressor()\n",
    "\n",
    "cbr.fit(X_train, Y_train, verbose=500)\n",
    "\n",
    "prediction_cbr = cbr.predict(X_test)"
   ]
  },
  {
   "cell_type": "code",
   "execution_count": 14,
   "metadata": {},
   "outputs": [
    {
     "name": "stdout",
     "output_type": "stream",
     "text": [
      "mean_squared_error: 19.578091947160598\n",
      "mean_absolute_error: 12.892028216328992\n",
      "median_absolute_error: 8.496663393355817\n",
      "r2_score: 0.888703218352646\n"
     ]
    }
   ],
   "source": [
    "print(f'mean_squared_error: {math.sqrt(mean_squared_error(Y_test, prediction_cbr))}')\n",
    "print(f'mean_absolute_error: {mean_absolute_error(Y_test, prediction_cbr)}')\n",
    "print(f'median_absolute_error: {median_absolute_error(Y_test, prediction_cbr)}')\n",
    "print(f'r2_score: {r2_score(Y_test, prediction_cbr)}')"
   ]
  },
  {
   "cell_type": "code",
   "execution_count": 15,
   "metadata": {},
   "outputs": [
    {
     "name": "stdout",
     "output_type": "stream",
     "text": [
      "0:\tlearn: 53.7549887\ttotal: 10.5ms\tremaining: 42.2s\n",
      "1000:\tlearn: 11.6666288\ttotal: 7.32s\tremaining: 21.9s\n",
      "2000:\tlearn: 9.7225391\ttotal: 15.7s\tremaining: 15.7s\n",
      "3000:\tlearn: 8.7631641\ttotal: 25.8s\tremaining: 8.61s\n",
      "4000:\tlearn: 7.9460022\ttotal: 36.6s\tremaining: 0us\n"
     ]
    }
   ],
   "source": [
    "search_CBR = CatBoostRegressor(iterations=4001,\n",
    "                                    rsm=1,\n",
    "                                    early_stopping_rounds=100,\n",
    "                                    grow_policy='Depthwise',\n",
    "                                    depth=7,\n",
    "                                    loss_function='RMSE',\n",
    "                                    eval_metric='RMSE',\n",
    "                                    l2_leaf_reg=10,\n",
    "                                    learning_rate=0.01,\n",
    "                                    verbose=1000,\n",
    "                                    task_type='GPU'\n",
    "                                    )\n",
    "\n",
    "search_CBR.fit(X_train, Y_train)\n",
    "\n",
    "prediction_search_CBR = search_CBR.predict(X_test)"
   ]
  },
  {
   "cell_type": "code",
   "execution_count": 16,
   "metadata": {},
   "outputs": [
    {
     "name": "stdout",
     "output_type": "stream",
     "text": [
      "mean_squared_error: 21.933437407298484\n",
      "mean_absolute_error: 13.334985030633046\n",
      "median_absolute_error: 7.036916078608726\n",
      "r2_score: 0.8603132291937825\n"
     ]
    }
   ],
   "source": [
    "print(f'mean_squared_error: {math.sqrt(mean_squared_error(Y_test, prediction_search_CBR))}')\n",
    "print(f'mean_absolute_error: {mean_absolute_error(Y_test, prediction_search_CBR)}')\n",
    "print(f'median_absolute_error: {median_absolute_error(Y_test, prediction_search_CBR)}')\n",
    "print(f'r2_score: {r2_score(Y_test, prediction_search_CBR)}')"
   ]
  },
  {
   "attachments": {},
   "cell_type": "markdown",
   "metadata": {},
   "source": [
    "## **Сделаем таблицу ля сравнения результатов**"
   ]
  },
  {
   "cell_type": "code",
   "execution_count": 17,
   "metadata": {},
   "outputs": [],
   "source": [
    "comparison_table = pd.DataFrame(\n",
    "    {'models': ['lr', 'search_LR', 'cbr', 'search_CBR'],\n",
    "     \n",
    "    'mean_squared_error': [math.sqrt(mean_squared_error(Y_test, prediction_lr)),\n",
    "                            math.sqrt(mean_squared_error(Y_test, prediction_search_LR)),\n",
    "                            math.sqrt(mean_squared_error(Y_test, prediction_cbr)),\n",
    "                            math.sqrt(mean_squared_error(Y_test, prediction_search_CBR))],\n",
    "\n",
    "    'mean_absolute_error':[mean_absolute_error(Y_test, prediction_lr),\n",
    "                           mean_absolute_error(Y_test, prediction_search_LR),\n",
    "                           mean_absolute_error(Y_test, prediction_cbr),\n",
    "                           mean_absolute_error(Y_test, prediction_search_CBR)],\\\n",
    "\n",
    "    'median_absolute_error': [median_absolute_error(Y_test, prediction_lr),\n",
    "                              median_absolute_error(Y_test, prediction_search_LR),\n",
    "                              median_absolute_error(Y_test, prediction_cbr),\n",
    "                              median_absolute_error(Y_test, prediction_search_CBR)],\n",
    "                              \n",
    "    'r2_score': [r2_score(Y_test, prediction_lr), \n",
    "                r2_score(Y_test, prediction_search_LR),\n",
    "                r2_score(Y_test, prediction_cbr),\n",
    "                r2_score(Y_test, prediction_search_CBR)]\n",
    "    })"
   ]
  },
  {
   "cell_type": "code",
   "execution_count": 18,
   "metadata": {},
   "outputs": [
    {
     "data": {
      "text/html": [
       "<div>\n",
       "<style scoped>\n",
       "    .dataframe tbody tr th:only-of-type {\n",
       "        vertical-align: middle;\n",
       "    }\n",
       "\n",
       "    .dataframe tbody tr th {\n",
       "        vertical-align: top;\n",
       "    }\n",
       "\n",
       "    .dataframe thead th {\n",
       "        text-align: right;\n",
       "    }\n",
       "</style>\n",
       "<table border=\"1\" class=\"dataframe\">\n",
       "  <thead>\n",
       "    <tr style=\"text-align: right;\">\n",
       "      <th></th>\n",
       "      <th>models</th>\n",
       "      <th>mean_squared_error</th>\n",
       "      <th>mean_absolute_error</th>\n",
       "      <th>median_absolute_error</th>\n",
       "      <th>r2_score</th>\n",
       "    </tr>\n",
       "  </thead>\n",
       "  <tbody>\n",
       "    <tr>\n",
       "      <th>0</th>\n",
       "      <td>lr</td>\n",
       "      <td>29.883220</td>\n",
       "      <td>22.017864</td>\n",
       "      <td>18.722100</td>\n",
       "      <td>0.740704</td>\n",
       "    </tr>\n",
       "    <tr>\n",
       "      <th>1</th>\n",
       "      <td>search_LR</td>\n",
       "      <td>29.883220</td>\n",
       "      <td>22.017864</td>\n",
       "      <td>18.722100</td>\n",
       "      <td>0.740704</td>\n",
       "    </tr>\n",
       "    <tr>\n",
       "      <th>2</th>\n",
       "      <td>cbr</td>\n",
       "      <td>19.578092</td>\n",
       "      <td>12.892028</td>\n",
       "      <td>8.496663</td>\n",
       "      <td>0.888703</td>\n",
       "    </tr>\n",
       "    <tr>\n",
       "      <th>3</th>\n",
       "      <td>search_CBR</td>\n",
       "      <td>21.933437</td>\n",
       "      <td>13.334985</td>\n",
       "      <td>7.036916</td>\n",
       "      <td>0.860313</td>\n",
       "    </tr>\n",
       "  </tbody>\n",
       "</table>\n",
       "</div>"
      ],
      "text/plain": [
       "       models  mean_squared_error  mean_absolute_error  median_absolute_error   \n",
       "0          lr           29.883220            22.017864              18.722100  \\\n",
       "1   search_LR           29.883220            22.017864              18.722100   \n",
       "2         cbr           19.578092            12.892028               8.496663   \n",
       "3  search_CBR           21.933437            13.334985               7.036916   \n",
       "\n",
       "   r2_score  \n",
       "0  0.740704  \n",
       "1  0.740704  \n",
       "2  0.888703  \n",
       "3  0.860313  "
      ]
     },
     "execution_count": 18,
     "metadata": {},
     "output_type": "execute_result"
    }
   ],
   "source": [
    "comparison_table"
   ]
  },
  {
   "attachments": {},
   "cell_type": "markdown",
   "metadata": {},
   "source": [
    "## **Из всего этого хоршо подходит CatBoostRegressor из коробки(cbr)**"
   ]
  },
  {
   "attachments": {},
   "cell_type": "markdown",
   "metadata": {},
   "source": [
    "### **Обучим модель на всех данных**"
   ]
  },
  {
   "cell_type": "code",
   "execution_count": 20,
   "metadata": {},
   "outputs": [
    {
     "name": "stdout",
     "output_type": "stream",
     "text": [
      "Learning rate set to 0.041504\n",
      "0:\tlearn: 53.0297492\ttotal: 1.81ms\tremaining: 1.81s\n",
      "500:\tlearn: 12.9915347\ttotal: 1.01s\tremaining: 1.01s\n",
      "999:\tlearn: 10.6172882\ttotal: 2.33s\tremaining: 0us\n"
     ]
    }
   ],
   "source": [
    "cbr.fit(X, Y, verbose=500)\n",
    "\n",
    "prediction_cbr = cbr.predict(X)"
   ]
  },
  {
   "cell_type": "code",
   "execution_count": 22,
   "metadata": {},
   "outputs": [
    {
     "name": "stdout",
     "output_type": "stream",
     "text": [
      "mean_squared_error: 10.617287934592882\n",
      "mean_absolute_error: 8.031329901045604\n",
      "median_absolute_error: 6.3158566975016015\n",
      "r2_score: 0.9623670510823832\n"
     ]
    }
   ],
   "source": [
    "print(f'mean_squared_error: {math.sqrt(mean_squared_error(Y, prediction_cbr))}')\n",
    "print(f'mean_absolute_error: {mean_absolute_error(Y, prediction_cbr)}')\n",
    "print(f'median_absolute_error: {median_absolute_error(Y, prediction_cbr)}')\n",
    "print(f'r2_score: {r2_score(Y, prediction_cbr)}')"
   ]
  },
  {
   "cell_type": "code",
   "execution_count": 23,
   "metadata": {},
   "outputs": [
    {
     "name": "stdout",
     "output_type": "stream",
     "text": [
      "0:\tlearn: 54.4605593\ttotal: 11.5ms\tremaining: 46.1s\n",
      "1000:\tlearn: 11.9433931\ttotal: 8.9s\tremaining: 26.7s\n",
      "2000:\tlearn: 10.0631596\ttotal: 17.4s\tremaining: 17.4s\n",
      "3000:\tlearn: 9.2106337\ttotal: 25.5s\tremaining: 8.51s\n",
      "4000:\tlearn: 8.4801483\ttotal: 33.8s\tremaining: 0us\n",
      "mean_squared_error: 8.480151354375472\n",
      "mean_absolute_error: 5.957715642034898\n",
      "median_absolute_error: 4.366988567292054\n",
      "r2_score: 0.9759924264746485\n"
     ]
    }
   ],
   "source": [
    "search_CBR.fit(X, Y)\n",
    "\n",
    "p = search_CBR.predict(X)\n",
    "\n",
    "print(f'mean_squared_error: {math.sqrt(mean_squared_error(Y, p))}')\n",
    "print(f'mean_absolute_error: {mean_absolute_error(Y, p)}')\n",
    "print(f'median_absolute_error: {median_absolute_error(Y, p)}')\n",
    "print(f'r2_score: {r2_score(Y, p)}')"
   ]
  },
  {
   "cell_type": "code",
   "execution_count": null,
   "metadata": {},
   "outputs": [],
   "source": []
  }
 ],
 "metadata": {
  "kernelspec": {
   "display_name": ".venv",
   "language": "python",
   "name": "python3"
  },
  "language_info": {
   "codemirror_mode": {
    "name": "ipython",
    "version": 3
   },
   "file_extension": ".py",
   "mimetype": "text/x-python",
   "name": "python",
   "nbconvert_exporter": "python",
   "pygments_lexer": "ipython3",
   "version": "3.10.11"
  },
  "orig_nbformat": 4
 },
 "nbformat": 4,
 "nbformat_minor": 2
}
