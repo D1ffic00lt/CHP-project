{
  "nbformat": 4,
  "nbformat_minor": 0,
  "metadata": {
    "colab": {
      "provenance": []
    },
    "kernelspec": {
      "name": "python3",
      "display_name": "Python 3"
    },
    "language_info": {
      "name": "python"
    }
  },
  "cells": [
    {
      "cell_type": "code",
      "execution_count": null,
      "metadata": {
        "id": "Ckl0uuVaHyhJ"
      },
      "outputs": [],
      "source": [
        "import os"
      ]
    },
    {
      "cell_type": "code",
      "source": [
        "df = pd.read_csv(\"mk2-part1.csv\")\n",
        "df2 = pd.read_csv(\"mk2-part2.csv\")"
      ],
      "metadata": {
        "id": "bQeWsJ8eIIGR"
      },
      "execution_count": null,
      "outputs": []
    },
    {
      "cell_type": "code",
      "source": [
        "df = df.drop(columns=['Unnamed: 0'])\n",
        "df2 = df2.drop(columns=['Unnamed: 0'])"
      ],
      "metadata": {
        "id": "dOtJOzBvRZ6z"
      },
      "execution_count": null,
      "outputs": []
    },
    {
      "cell_type": "markdown",
      "source": [
        "# Change name colums in mk2-part1 "
      ],
      "metadata": {
        "id": "Yp6z-gM8aOA9"
      }
    },
    {
      "cell_type": "code",
      "source": [
        "start_name = []\n",
        "for col in df.columns:\n",
        "  if col[0] == \"U\":\n",
        "    start_name.append(\"\")\n",
        "  else:\n",
        "    start_name.append(col)"
      ],
      "metadata": {
        "id": "lSlIaEgyTndb"
      },
      "execution_count": null,
      "outputs": []
    },
    {
      "cell_type": "code",
      "source": [
        "name = []\n",
        "for i in range(21):\n",
        "  for idx, row in df.iterrows():\n",
        "    if isinstance(row[i], str):\n",
        "      name.append(row[i])\n",
        "    else:\n",
        "      name.append(\"\")\n",
        "    break"
      ],
      "metadata": {
        "id": "vUtJ7JB7RZ9a"
      },
      "execution_count": null,
      "outputs": []
    },
    {
      "cell_type": "code",
      "source": [
        "name_next_line = []\n",
        "for i in range(21):\n",
        "  for index, row in df.iloc[1:2, :].iterrows():\n",
        "    if isinstance(row[i], str):\n",
        "      name_next_line.append(row[i])\n",
        "    else:\n",
        "      name_next_line.append(\"\")\n",
        "    break"
      ],
      "metadata": {
        "id": "KHSbsVEiUS9y"
      },
      "execution_count": null,
      "outputs": []
    },
    {
      "cell_type": "code",
      "source": [
        "name_next_line_2 = []\n",
        "for i in range(21):\n",
        "  for index, row in df.iloc[2:3, :].iterrows():\n",
        "    if isinstance(row[i], str):\n",
        "      name_next_line_2.append(row[i])\n",
        "    else:\n",
        "      name_next_line_2.append(\"\")\n",
        "    break"
      ],
      "metadata": {
        "id": "I-xZzgPGUfJZ"
      },
      "execution_count": null,
      "outputs": []
    },
    {
      "cell_type": "code",
      "source": [
        "for i in range(0,21):\n",
        "        df = df.rename(columns={df.columns[i]: str(start_name[i]) + \\\n",
        "                                \" \" + str(name[i]) + \\\n",
        "                                \" \" + str(name_next_line[i]) + \\\n",
        "                                \" \" + str(name_next_line_2[i])})"
      ],
      "metadata": {
        "id": "2hrQAkdaVpjS"
      },
      "execution_count": null,
      "outputs": []
    },
    {
      "cell_type": "code",
      "source": [
        "df2 = df2.drop(labels = [0 , 1, 2])"
      ],
      "metadata": {
        "id": "MxWidR11YKy0"
      },
      "execution_count": null,
      "outputs": []
    },
    {
      "cell_type": "code",
      "source": [
        "df = df.reset_index(drop=True)"
      ],
      "metadata": {
        "id": "kexzsrviZEK9"
      },
      "execution_count": null,
      "outputs": []
    },
    {
      "cell_type": "markdown",
      "source": [
        "# Change name colums in mk2-part2 "
      ],
      "metadata": {
        "id": "2pDVuv16aWVA"
      }
    },
    {
      "cell_type": "code",
      "source": [
        "start_name = []\n",
        "for col in df2.columns:\n",
        "  if col[0] == \"U\":\n",
        "    start_name.append(\"\")\n",
        "  else:\n",
        "    start_name.append(col)"
      ],
      "metadata": {
        "id": "vrOTYgTHaZ54"
      },
      "execution_count": null,
      "outputs": []
    },
    {
      "cell_type": "code",
      "source": [
        "name = []\n",
        "for i in range(48):\n",
        "  for idx, row in df2.iterrows():\n",
        "    if isinstance(row[i], str):\n",
        "      name.append(row[i])\n",
        "    else:\n",
        "      name.append(\"\")\n",
        "    break"
      ],
      "metadata": {
        "id": "0odvkM8taZ8X"
      },
      "execution_count": null,
      "outputs": []
    },
    {
      "cell_type": "code",
      "source": [
        "name_next_line = []\n",
        "for i in range(48):\n",
        "  for index, row in df2.iloc[1:2, :].iterrows():\n",
        "    if isinstance(row[i], str):\n",
        "      name_next_line.append(row[i])\n",
        "    else:\n",
        "      name_next_line.append(\"\")\n",
        "    break"
      ],
      "metadata": {
        "id": "EYT5ci63a3j_"
      },
      "execution_count": null,
      "outputs": []
    },
    {
      "cell_type": "code",
      "source": [
        "name_next_line_2 = []\n",
        "for i in range(48):\n",
        "  for index, row in df2.iloc[2:3, :].iterrows():\n",
        "    if isinstance(row[i], str):\n",
        "      if row[i] == \"-\":\n",
        "        name_next_line_2.append(\"\")\n",
        "      else:\n",
        "        name_next_line_2.append(row[i])\n",
        "    else:\n",
        "      name_next_line_2.append(\"\")\n",
        "    break"
      ],
      "metadata": {
        "id": "yvPmWx4Pa5pq"
      },
      "execution_count": null,
      "outputs": []
    },
    {
      "cell_type": "code",
      "source": [
        "df2 = df2.rename(columns = {df2.columns[i]: str(start_name[i]) + \\\n",
        "                                \" \" + str(name[i]) + \\\n",
        "                                \" \" + str(name_next_line[i]) + \\\n",
        "                                \" \" + str(name_next_line_2[i])})"
      ],
      "metadata": {
        "id": "7vHc_myMa7kC"
      },
      "execution_count": null,
      "outputs": []
    },
    {
      "cell_type": "code",
      "source": [
        "df2 = df2.drop(labels = [0 , 1, 2])"
      ],
      "metadata": {
        "id": "yglZQICKa9q4"
      },
      "execution_count": null,
      "outputs": []
    },
    {
      "cell_type": "code",
      "source": [
        "df2 = df2.reset_index(drop=True)"
      ],
      "metadata": {
        "id": "lq4y3jkNa_yD"
      },
      "execution_count": null,
      "outputs": []
    },
    {
      "cell_type": "code",
      "source": [
        "df.to_csv('mk2-part1_normal_name_columns.csv')\n",
        "df2.to_csv('mk2-part2_normal_name_columns.csv')"
      ],
      "metadata": {
        "id": "yz_Nzx4_byGa"
      },
      "execution_count": null,
      "outputs": []
    }
  ]
}