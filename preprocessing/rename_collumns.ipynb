{
  "nbformat": 4,
  "nbformat_minor": 0,
  "metadata": {
    "colab": {
      "provenance": []
    },
    "kernelspec": {
      "name": "python3",
      "display_name": "Python 3"
    },
    "language_info": {
      "name": "python"
    }
  },
  "cells": [
    {
      "cell_type": "markdown",
      "source": [
        "\n",
        "\n",
        "\n",
        "\n",
        "\n",
        "\n",
        "#Transform MK-1\n"
      ],
      "metadata": {
        "id": "A4G6-57ylCZk"
      }
    },
    {
      "cell_type": "markdown",
      "source": [
        "##Import Library"
      ],
      "metadata": {
        "id": "zDglujYgk5e7"
      }
    },
    {
      "cell_type": "code",
      "source": [
        "import pandas as pd\n",
        "import numpy as np"
      ],
      "metadata": {
        "id": "f0xaIb6OkaQh"
      },
      "execution_count": 2,
      "outputs": []
    },
    {
      "cell_type": "markdown",
      "source": [
        "##Data\n"
      ],
      "metadata": {
        "id": "eOPR7vExlWao"
      }
    },
    {
      "cell_type": "code",
      "source": [
        "part1 = pd.read_csv(\"mk1-part1.csv\")\n",
        "part2 = pd.read_csv(\"mk1-part2.csv\")"
      ],
      "metadata": {
        "id": "RQXBDGXYlTu-"
      },
      "execution_count": 4,
      "outputs": []
    },
    {
      "cell_type": "markdown",
      "source": [
        "### Data preprocessing part1\n"
      ],
      "metadata": {
        "id": "Y8npmPLYmF9e"
      }
    },
    {
      "cell_type": "code",
      "source": [
        "part1 = part1.drop([\"Unnamed: 0\", \"Unnamed: 0.1\"], axis=1)"
      ],
      "metadata": {
        "id": "S37HAkNmcnev"
      },
      "execution_count": 5,
      "outputs": []
    },
    {
      "cell_type": "code",
      "source": [
        "part1.rename(columns = {'Unnamed: 1': 'Hour',\n",
        "                        'Unnamed: 2': 'group_90_boilers-conditional_fuel_burns-T_uh-rub/h',\n",
        "                        'Unnamed: 3': 'group_90_boilers-excess_rs-rub/h',\n",
        "                        'Unnamed: 4': 'group_90_boilers-suckers-rub/h',\n",
        "                        'Unnamed: 5': 'group_90_boilers-total-rub/h',\n",
        "                        'Unnamed: 6': 'KA_5-Conditional_fuel_burns-T_uh-rub/h',\n",
        "                        'Unnamed: 7': 'KA_5-excess_rs-rub/h',\n",
        "                        'Unnamed: 8': 'KA_5-suckers-rub/h',\n",
        "                        'Unnamed: 9': 'KA_5-total-rub/h',\n",
        "                        'Unnamed: 10': 'KA_6-Conditional_fuel_burns-T_uh-rub/h',\n",
        "                        'Unnamed: 11': 'KA_6-excess_rs-rub/h',\n",
        "                        'Unnamed: 12': 'KA_6-suckers-rub/h',\n",
        "                        'Unnamed: 13': 'KA_6-total-rub/h',\n",
        "                        'Unnamed: 14': 'KA_7-Conditional_fuel_burns-T_uh-rub/h',\n",
        "                        'Unnamed: 15': 'KA_7-excess_rs-rub/h',\n",
        "                        'Unnamed: 16': 'KA_7-suckers-rub/h',\n",
        "                        'Unnamed: 17': 'KA_7-total-rub/h',\n",
        "                        'Unnamed: 18': 'KA_8-Conditional_fuel_burns-T_uh-rub/h',\n",
        "                        'Unnamed: 19': 'KA_8-excess_rs-rub/h',\n",
        "                        'Unnamed: 20': 'KA_8-suckers-rub/h',\n",
        "                        'Unnamed: 21': 'KA_8-total-rub/h'}, inplace=True)"
      ],
      "metadata": {
        "id": "rjGfPcvTnsOO"
      },
      "execution_count": 6,
      "outputs": []
    },
    {
      "cell_type": "code",
      "source": [
        "part1 = part1.drop([0, 1, 2, 3], axis=0)\n",
        "\n",
        "d = {}\n",
        "for i in range(0, 26):\n",
        "    d[i + 4] = i\n",
        "\n",
        "part1.rename(index=d, inplace=True)\n",
        "part1.at[24, 'Hour'] = 'per_day'"
      ],
      "metadata": {
        "id": "dkP6aYlzAQrT"
      },
      "execution_count": 7,
      "outputs": []
    },
    {
      "cell_type": "markdown",
      "source": [
        "### Data preprocessing part2"
      ],
      "metadata": {
        "id": "13In41XTEavC"
      }
    },
    {
      "cell_type": "code",
      "source": [
        "part2 = part2.drop(['Unnamed: 0'], axis=1)"
      ],
      "metadata": {
        "id": "SL5AeycgEsrj"
      },
      "execution_count": 8,
      "outputs": []
    },
    {
      "cell_type": "code",
      "source": [
        "part2.rename(columns = {'Котлы группы 90': 'group_90_boilers-conditional_fuel_burns-T_uh-tut/h',\n",
        "                        'Unnamed: 1': 'group_90_boilers-excess_rs-tut/h',\n",
        "                        'Unnamed: 3': 'group_90_boilers-suckers-tut/h',\n",
        "                        'Unnamed: 3': 'group_90_boilers-total-tut/h',\n",
        "\n",
        "                        'KA-5': 'KA_5-Dpe-t/h',\n",
        "                        'Unnamed: 5': 'KA_5-actual_values-T_uh-C',\n",
        "                        'Unnamed: 6': 'KA_5-actual_values-excess_rs',\n",
        "                        'Unnamed: 7': 'KA_5-actual_values-suckers-percent',\n",
        "\n",
        "                        'Unnamed: 8': 'KA_5-standard_values-T_uh-C',\n",
        "                        'Unnamed: 9': 'KA_5-standard_values-excess_rs',\n",
        "                        'Unnamed: 10': 'KA_5-standard_values-suckers_percent',\n",
        "\n",
        "                        'Unnamed: 11': 'KA_5-conditional_fuel_burns-T_uh-tut_h',\n",
        "                        'Unnamed: 12': 'KA_5-conditional_fuel_burns-excess_rs-tut_h',\n",
        "                        'Unnamed: 13': 'KA_5-conditional_fuel_burns-suckers-tut_h',\n",
        "                        'Unnamed: 14': 'KA_5-total-tut_h',\n",
        "\n",
        "                        'KA-6': 'KA_6-Dpe-t/h',\n",
        "                        'Unnamed: 16': 'KA_6-actual_values-T_uh-C',\n",
        "                        'Unnamed: 17': 'KA_6-actual_values-excess_rs',\n",
        "                        'Unnamed: 18': 'KA_6-actual_values-suckers-percent',\n",
        "\n",
        "                        'Unnamed: 19': 'KA_6-standard_values-T_uh-C',\n",
        "                        'Unnamed: 20': 'KA_6-standard_values-excess_rs',\n",
        "                        'Unnamed: 21': 'KA_6-standard_values-suckers_percent',\n",
        "\n",
        "                        'Unnamed: 22': 'KA_6-conditional_fuel_burns-T_uh-tut_h',\n",
        "                        'Unnamed: 23': 'KA_6-conditional_fuel_burns-excess_rs-tut_h',\n",
        "                        'Unnamed: 24': 'KA_6-conditional_fuel_burns-suckers-tut_h',\n",
        "                        'Unnamed: 25': 'KA_6-total-tut_h',\n",
        "                        \n",
        "                        'KA-7': 'KA_7-Dpe-t/h',\n",
        "                        'Unnamed: 27': 'KA_7-actual_values-T_uh-C',\n",
        "                        'Unnamed: 28': 'KA_7-actual_values-excess_rs',\n",
        "                        'Unnamed: 29': 'KA_7-actual_values-suckers-percent',\n",
        "\n",
        "                        'Unnamed: 30': 'KA_7-standard_values-T_uh-C',\n",
        "                        'Unnamed: 31': 'KA_7-standard_values-excess_rs',\n",
        "                        'Unnamed: 32': 'KA_7-standard_values-suckers_percent',\n",
        "\n",
        "                        'Unnamed: 33': 'KA_7-conditional_fuel_burns-T_uh-tut_h',\n",
        "                        'Unnamed: 34': 'KA_7-conditional_fuel_burns-excess_rs-tut_h',\n",
        "                        'Unnamed: 35': 'KA_7-conditional_fuel_burns-suckers-tut_h',\n",
        "                        'Unnamed: 36': 'KA_7-total-tut_h',\n",
        "                        \n",
        "                        'KA-8': 'KA_8-Dpe-t/h',\n",
        "                        'Unnamed: 38': 'KA_8-actual_values-T_uh-C',\n",
        "                        'Unnamed: 39': 'KA_8-actual_values-excess_rs',\n",
        "                        'Unnamed: 40': 'KA_8-actual_values-suckers-percent',\n",
        "\n",
        "                        'Unnamed: 41': 'KA_8-standard_values-T_uh-C',\n",
        "                        'Unnamed: 42': 'KA_8-standard_values-excess_rs',\n",
        "                        'Unnamed: 43': 'KA_8-standard_values-suckers_percent',\n",
        "\n",
        "                        'Unnamed: 44': 'KA_8-conditional_fuel_burns-T_uh-tut_h',\n",
        "                        'Unnamed: 45': 'KA_8-conditional_fuel_burns-excess_rs-tut_h',\n",
        "                        'Unnamed: 46': 'KA_8-conditional_fuel_burns-suckers-tut_h',\n",
        "                        'Unnamed: 47': 'KA_8-total-tut_h'}, inplace=True)"
      ],
      "metadata": {
        "id": "JjY70bLAE37K"
      },
      "execution_count": 9,
      "outputs": []
    },
    {
      "cell_type": "code",
      "source": [
        "part2 = part2.drop([0, 1, 2], axis=0)\n",
        "\n",
        "d = {}\n",
        "for i in range(0, 25):\n",
        "    d[i + 3] = i\n",
        "\n",
        "part2.rename(index=d, inplace=True)"
      ],
      "metadata": {
        "id": "O-OOpcEPa_bI"
      },
      "execution_count": 10,
      "outputs": []
    },
    {
      "cell_type": "markdown",
      "source": [
        "## Download File"
      ],
      "metadata": {
        "id": "ZpaUvJ18y70e"
      }
    },
    {
      "cell_type": "code",
      "source": [
        "part1.to_csv('mk1-part1.csv')\n",
        "part2.to_csv('mk1-part2.csv')"
      ],
      "metadata": {
        "id": "n-fRS7ZOy7aZ"
      },
      "execution_count": 11,
      "outputs": []
    },
    {
      "cell_type": "code",
      "source": [],
      "metadata": {
        "id": "2oOzWf7uzZuZ"
      },
      "execution_count": 11,
      "outputs": []
    }
  ]
}