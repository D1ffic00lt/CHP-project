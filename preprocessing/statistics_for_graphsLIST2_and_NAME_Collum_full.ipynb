{
 "nbformat": 4,
 "nbformat_minor": 0,
 "metadata": {
  "colab": {
   "provenance": []
  },
  "kernelspec": {
   "name": "python3",
   "display_name": "Python 3"
  },
  "language_info": {
   "name": "python"
  }
 },
 "cells": [
  {
   "cell_type": "code",
   "execution_count": 110,
   "metadata": {
    "id": "Xm-dbdGS9NdL"
   },
   "outputs": [],
   "source": [
    "import numpy as np\n",
    "import pandas as pd\n",
    "import os"
   ]
  },
  {
   "cell_type": "code",
   "source": [
    "df = pd.read_csv(\"page2.csv\")"
   ],
   "metadata": {
    "id": "QAmt58MM_AGe"
   },
   "execution_count": 111,
   "outputs": []
  },
  {
   "cell_type": "code",
   "source": [
    "collum_name = []\n",
    "for col_name, data in df.items():\n",
    "  collum_name.append(data[0])\n"
   ],
   "metadata": {
    "id": "MN7Pi0kcBR1n"
   },
   "execution_count": 112,
   "outputs": []
  },
  {
   "cell_type": "code",
   "source": [
    "counter = {}\n",
    "\n",
    "for elem in collum_name:\n",
    "    counter[elem] = counter.get(elem, 0) + 1\n",
    "\n",
    "doubles = {element: count for element, count in counter.items() if count > 1}\n",
    "\n",
    "print(doubles)"
   ],
   "metadata": {
    "colab": {
     "base_uri": "https://localhost:8080/"
    },
    "id": "AfbsgBg1CDBU",
    "outputId": "99c158d1-0613-42fa-e1ca-3267b18b4ff2"
   },
   "execution_count": 113,
   "outputs": [
    {
     "output_type": "stream",
     "name": "stdout",
     "text": [
      "{nan: 7}\n"
     ]
    }
   ]
  },
  {
   "cell_type": "code",
   "source": [
    "df=df.rename(columns={df.columns[1]: 'Period_Time'})\n",
    "df.head()\n",
    "df.at[0, 'Period_Time'] = 'Period'"
   ],
   "metadata": {
    "id": "JERihzzxCJZC"
   },
   "execution_count": 114,
   "outputs": []
  },
  {
   "cell_type": "code",
   "source": [
    "df = df.drop(columns=['Unnamed: 7', 'Unnamed: 14', 'Unnamed: 21', 'Unnamed: 30', 'Unnamed: 39', 'Unnamed: 42', ])\n"
   ],
   "metadata": {
    "id": "R2OGW1DEHiQ9"
   },
   "execution_count": 115,
   "outputs": []
  },
  {
   "cell_type": "code",
   "source": [],
   "metadata": {
    "id": "wANwx4_R3fmc"
   },
   "execution_count": 115,
   "outputs": []
  },
  {
   "cell_type": "code",
   "source": [
    "df=df.rename(columns={df.columns[1]: 'Period_Time'})"
   ],
   "metadata": {
    "id": "Zwsl44X-3ft2"
   },
   "execution_count": 116,
   "outputs": []
  },
  {
   "cell_type": "code",
   "source": [
    "name = []\n",
    "for i in range(44):\n",
    "  for idx, row in df.iterrows():\n",
    "    name.append(row[i])\n",
    "    break"
   ],
   "metadata": {
    "id": "Cb62vCM33fzW"
   },
   "execution_count": 117,
   "outputs": []
  },
  {
   "cell_type": "code",
   "source": [
    "\n",
    "name_next_line = []\n",
    "for i in range(44):\n",
    "  for index, row in df.iloc [1:3, :].iterrows ():\n",
    "      name_next_line.append(row[i])\n",
    "      break\n"
   ],
   "metadata": {
    "id": "DfAu7VqCfXqg"
   },
   "execution_count": 118,
   "outputs": []
  },
  {
   "cell_type": "code",
   "source": [
    "for i in range(2,44):\n",
    "        df=df.rename(columns={df.columns[i]: str(name[i]) + \" \" + str(name_next_line[i])})\n",
    "df = df.drop(labels = [0],axis = 0)\n",
    "df = df.drop(labels = [1],axis = 0)\n"
   ],
   "metadata": {
    "id": "8NJgTc9v3f98"
   },
   "execution_count": 119,
   "outputs": []
  },
  {
   "cell_type": "code",
   "source": [
    "df = df.drop(columns='Unnamed: 0.1') \n"
   ],
   "metadata": {
    "id": "KI_JBC4geesd"
   },
   "execution_count": 120,
   "outputs": []
  },
  {
   "cell_type": "code",
   "source": [],
   "metadata": {
    "id": "97yXZbJdg37u"
   },
   "execution_count": 120,
   "outputs": []
  },
  {
   "cell_type": "code",
   "source": [
    "df.to_csv('page2_normal.csv')"
   ],
   "metadata": {
    "id": "01MM5uVMKsom"
   },
   "execution_count": 121,
   "outputs": []
  },
  {
   "cell_type": "code",
   "source": [],
   "metadata": {
    "id": "uSYQKqAcjFRR"
   },
   "execution_count": 121,
   "outputs": []
  }
 ]
}
