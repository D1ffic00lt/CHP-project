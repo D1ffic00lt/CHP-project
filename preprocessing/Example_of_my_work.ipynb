{
 "cells": [
  {
   "cell_type": "code",
   "execution_count": null,
   "metadata": {
    "id": "ySsJ_g-jVrM6"
   },
   "outputs": [],
   "source": [
    "import numpy as np\n",
    "import pandas as pd\n",
    "\n",
    "import seaborn as sns\n",
    "from matplotlib import pyplot as plt\n",
    "\n",
    "from sklearn.datasets import make_moons\n",
    "from sklearn.model_selection import train_test_split\n"
   ]
  },
  {
   "cell_type": "code",
   "execution_count": null,
   "metadata": {
    "id": "LC7LAXITV4ga"
   },
   "outputs": [],
   "source": [
    "data = pd.read_csv(\"page2.csv\")"
   ]
  },
  {
   "cell_type": "code",
   "execution_count": null,
   "metadata": {
    "colab": {
     "base_uri": "https://localhost:8080/",
     "height": 473
    },
    "id": "PGObVd2QWMAd",
    "outputId": "e92caba7-6496-47b7-aa67-9c3650276740",
    "pycharm": {
     "is_executing": true
    }
   },
   "outputs": [],
   "source": []
  },
  {
   "cell_type": "code",
   "execution_count": null,
   "metadata": {
    "colab": {
     "base_uri": "https://localhost:8080/"
    },
    "id": "Vd1QFkViEBGc",
    "outputId": "3a7037d9-e11e-415e-9402-319123d518e8"
   },
   "outputs": [
    {
     "output_type": "execute_result",
     "data": {
      "text/plain": [
       "120"
      ]
     },
     "metadata": {},
     "execution_count": 135
    }
   ],
   "source": [
    "data[\"т/ч\"].isnull().sum()"
   ]
  },
  {
   "cell_type": "code",
   "source": [
    "data[\"т/ч\"] = data[\"т/ч\"].fillna(0)\n",
    "data[\"т/ч\"].isnull().sum()"
   ],
   "metadata": {
    "colab": {
     "base_uri": "https://localhost:8080/"
    },
    "id": "sFjuTW6qOMT0",
    "outputId": "8c202055-34f9-4462-8956-91f255e243f4"
   },
   "execution_count": null,
   "outputs": [
    {
     "output_type": "execute_result",
     "data": {
      "text/plain": [
       "0"
      ]
     },
     "metadata": {},
     "execution_count": 136
    }
   ]
  },
  {
   "cell_type": "markdown",
   "source": [
    "-------------------\n"
   ],
   "metadata": {
    "id": "CnLGkfrSPARU"
   }
  },
  {
   "cell_type": "code",
   "source": [
    "data[\"т/ч.1\"].isnull().sum()"
   ],
   "metadata": {
    "colab": {
     "base_uri": "https://localhost:8080/"
    },
    "id": "SmeUXuLSOlQt",
    "outputId": "75b60bdc-1cb4-4802-c012-d973f419213d"
   },
   "execution_count": null,
   "outputs": [
    {
     "output_type": "execute_result",
     "data": {
      "text/plain": [
       "120"
      ]
     },
     "metadata": {},
     "execution_count": 137
    }
   ]
  },
  {
   "cell_type": "code",
   "source": [
    "data[\"т/ч.1\"] = data[\"т/ч.1\"].fillna(0)\n",
    "data[\"т/ч.1\"].isnull().sum()"
   ],
   "metadata": {
    "colab": {
     "base_uri": "https://localhost:8080/"
    },
    "id": "Zz6z0wOVOrH-",
    "outputId": "613f088f-9333-4192-8e83-1e5d76cf3bc4"
   },
   "execution_count": null,
   "outputs": [
    {
     "output_type": "execute_result",
     "data": {
      "text/plain": [
       "0"
      ]
     },
     "metadata": {},
     "execution_count": 138
    }
   ]
  },
  {
   "cell_type": "code",
   "source": [],
   "metadata": {
    "id": "dVR2ZYFvOuAu"
   },
   "execution_count": null,
   "outputs": []
  },
  {
   "cell_type": "markdown",
   "source": [
    "____________________________________________________________\n"
   ],
   "metadata": {
    "id": "FwfuDWuJPDr_"
   }
  },
  {
   "cell_type": "code",
   "source": [
    "data[\"т/ч.2\"].isnull().sum()"
   ],
   "metadata": {
    "colab": {
     "base_uri": "https://localhost:8080/"
    },
    "id": "8B2KDAUJOuDB",
    "outputId": "e4ca4c08-aa4a-470d-a870-038ca65195c1"
   },
   "execution_count": null,
   "outputs": [
    {
     "output_type": "execute_result",
     "data": {
      "text/plain": [
       "120"
      ]
     },
     "metadata": {},
     "execution_count": 139
    }
   ]
  },
  {
   "cell_type": "code",
   "source": [
    "data[\"т/ч.2\"] = data[\"т/ч.2\"].fillna(0)\n",
    "data[\"т/ч.2\"].isnull().sum()"
   ],
   "metadata": {
    "colab": {
     "base_uri": "https://localhost:8080/"
    },
    "id": "WXYwdFP1O0zs",
    "outputId": "a5cc30a2-fa52-4b4c-ccbb-b3ef52f1a2e1"
   },
   "execution_count": null,
   "outputs": [
    {
     "output_type": "execute_result",
     "data": {
      "text/plain": [
       "0"
      ]
     },
     "metadata": {},
     "execution_count": 140
    }
   ]
  },
  {
   "cell_type": "markdown",
   "source": [
    "________________________________________________________________"
   ],
   "metadata": {
    "id": "lp49spWdPHS2"
   }
  },
  {
   "cell_type": "code",
   "source": [
    "data[\"т/ч.3\"].isnull().sum()"
   ],
   "metadata": {
    "colab": {
     "base_uri": "https://localhost:8080/"
    },
    "id": "MU3j6n4oO3XR",
    "outputId": "fa419b0e-6b8e-45ca-ecbf-f06eb67ed30a"
   },
   "execution_count": null,
   "outputs": [
    {
     "output_type": "execute_result",
     "data": {
      "text/plain": [
       "120"
      ]
     },
     "metadata": {},
     "execution_count": 141
    }
   ]
  },
  {
   "cell_type": "code",
   "source": [
    "data[\"т/ч.3\"] = data[\"т/ч.3\"].fillna(0)\n",
    "data[\"т/ч.3\"].isnull().sum()"
   ],
   "metadata": {
    "colab": {
     "base_uri": "https://localhost:8080/"
    },
    "id": "nMvn8MblO3Zc",
    "outputId": "5b7b156b-fbef-43af-9b51-54688eff9c00"
   },
   "execution_count": null,
   "outputs": [
    {
     "output_type": "execute_result",
     "data": {
      "text/plain": [
       "0"
      ]
     },
     "metadata": {},
     "execution_count": 142
    }
   ]
  },
  {
   "cell_type": "markdown",
   "source": [
    "__________________________________________________\n"
   ],
   "metadata": {
    "id": "AN9s9WgSPUvU"
   }
  },
  {
   "cell_type": "code",
   "source": [
    "data[\"т/ч.4\"].isnull().sum()"
   ],
   "metadata": {
    "colab": {
     "base_uri": "https://localhost:8080/"
    },
    "id": "Wcrs9CTZPafJ",
    "outputId": "2322bcbe-1d2f-4fa7-8dd5-7f40de6d21d6"
   },
   "execution_count": null,
   "outputs": [
    {
     "output_type": "execute_result",
     "data": {
      "text/plain": [
       "120"
      ]
     },
     "metadata": {},
     "execution_count": 143
    }
   ]
  },
  {
   "cell_type": "code",
   "source": [
    "data[\"т/ч.4\"] = data[\"т/ч.4\"].fillna(0)\n",
    "data[\"т/ч.4\"].isnull().sum()"
   ],
   "metadata": {
    "colab": {
     "base_uri": "https://localhost:8080/"
    },
    "id": "0o69D2LGPcRu",
    "outputId": "53028738-1fc7-4641-ebb9-45a73c7222aa"
   },
   "execution_count": null,
   "outputs": [
    {
     "output_type": "execute_result",
     "data": {
      "text/plain": [
       "0"
      ]
     },
     "metadata": {},
     "execution_count": 144
    }
   ]
  },
  {
   "cell_type": "markdown",
   "source": [
    "______________________________________________________________"
   ],
   "metadata": {
    "id": "2GEA7NPnPhEC"
   }
  },
  {
   "cell_type": "code",
   "source": [
    "data[\"т/ч.5\"].isnull().sum()"
   ],
   "metadata": {
    "colab": {
     "base_uri": "https://localhost:8080/"
    },
    "id": "HeJaiCVdPgG2",
    "outputId": "ec637f35-f389-4272-c48d-932ea1c59463"
   },
   "execution_count": null,
   "outputs": [
    {
     "output_type": "execute_result",
     "data": {
      "text/plain": [
       "120"
      ]
     },
     "metadata": {},
     "execution_count": 145
    }
   ]
  },
  {
   "cell_type": "code",
   "source": [
    "data[\"т/ч.5\"] = data[\"т/ч.5\"].fillna(0)\n",
    "data[\"т/ч.5\"].isnull().sum()"
   ],
   "metadata": {
    "colab": {
     "base_uri": "https://localhost:8080/"
    },
    "id": "L98lLCxNPk67",
    "outputId": "79ed734f-5bc7-45fb-eac3-0642b06fd806"
   },
   "execution_count": null,
   "outputs": [
    {
     "output_type": "execute_result",
     "data": {
      "text/plain": [
       "0"
      ]
     },
     "metadata": {},
     "execution_count": 146
    }
   ]
  },
  {
   "cell_type": "markdown",
   "source": [
    "___________________________________________________________\n"
   ],
   "metadata": {
    "id": "VqbkosQOPt5Y"
   }
  },
  {
   "cell_type": "code",
   "source": [
    "data[\"Гкал.7\"].isnull().sum()"
   ],
   "metadata": {
    "colab": {
     "base_uri": "https://localhost:8080/"
    },
    "id": "DoJdcmjgPtS7",
    "outputId": "dbefb9a2-e74c-42ca-8fa5-adcc870d2a92"
   },
   "execution_count": null,
   "outputs": [
    {
     "output_type": "execute_result",
     "data": {
      "text/plain": [
       "0"
      ]
     },
     "metadata": {},
     "execution_count": 176
    }
   ]
  },
  {
   "cell_type": "code",
   "execution_count": null,
   "metadata": {
    "id": "gtgHx7tRFIkX"
   },
   "outputs": [],
   "source": [
    "data.to_csv(\"page2i.csv\", encoding='utf-8')"
   ]
  },
  {
   "cell_type": "code",
   "execution_count": null,
   "metadata": {
    "id": "eOtrHbZqGbmN"
   },
   "outputs": [],
   "source": []
  }
 ],
 "metadata": {
  "colab": {
   "provenance": []
  },
  "kernelspec": {
   "display_name": "Python 3",
   "name": "python3"
  },
  "language_info": {
   "name": "python"
  }
 },
 "nbformat": 4,
 "nbformat_minor": 0
}
