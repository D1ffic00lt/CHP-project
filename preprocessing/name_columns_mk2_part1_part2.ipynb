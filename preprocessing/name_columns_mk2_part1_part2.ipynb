{
  "nbformat": 4,
  "nbformat_minor": 0,
  "metadata": {
    "colab": {
      "provenance": []
    },
    "kernelspec": {
      "name": "python3",
      "display_name": "Python 3"
    },
    "language_info": {
      "name": "python"
    }
  },
  "cells": [
    {
      "cell_type": "code",
      "execution_count": 172,
      "metadata": {
        "id": "Ckl0uuVaHyhJ"
      },
      "outputs": [],
      "source": [
        "import numpy as np\n",
        "import pandas as pd\n",
        "import math\n",
        "import os"
      ]
    },
    {
      "cell_type": "code",
      "source": [
        "df = pd.read_csv(\"mk2-part1.csv\")\n",
        "df2 = pd.read_csv(\"mk2-part2.csv\")"
      ],
      "metadata": {
        "id": "bQeWsJ8eIIGR"
      },
      "execution_count": 173,
      "outputs": []
    },
    {
      "cell_type": "code",
      "source": [],
      "metadata": {
        "id": "SjRVvTUiIINh"
      },
      "execution_count": 173,
      "outputs": []
    },
    {
      "cell_type": "code",
      "source": [
        "df2.head()"
      ],
      "metadata": {
        "colab": {
          "base_uri": "https://localhost:8080/",
          "height": 369
        },
        "id": "qufoJALsIWQj",
        "outputId": "98ebf96a-8508-484a-b508-5afaeb97fe3d"
      },
      "execution_count": 174,
      "outputs": [
        {
          "output_type": "execute_result",
          "data": {
            "text/plain": [
              "   Unnamed: 0            Котлы группы 130 Unnamed: 1 Unnamed: 2 Unnamed: 3  \\\n",
              "0           0  Пережоги условного топлива        NaN        NaN        NaN   \n",
              "1           1                        Т ух     Изб рс    присосы      ВСЕГО   \n",
              "2           2                       тут/ч      тут/ч      тут/ч      тут/ч   \n",
              "3           3                        0,66       0,38      -0,29       0,74   \n",
              "4           4                        0,63       0,39      -0,30       0,72   \n",
              "\n",
              "  КА-9            Unnamed: 5 Unnamed: 6 Unnamed: 7            Unnamed: 8  ...  \\\n",
              "0  Dпе  Фактические значения        NaN        NaN  Нормативные значения  ...   \n",
              "1  NaN                  Т ух     Изб рс    присосы                  Т ух  ...   \n",
              "2  т/ч                     С          -          %                     С  ...   \n",
              "3  215                 165,2       1,50       16,3                 154,4  ...   \n",
              "4  218                 164,4       1,50       16,2                 154,5  ...   \n",
              "\n",
              "            Unnamed: 38 Unnamed: 39 Unnamed: 40           Unnamed: 41  \\\n",
              "0  Фактические значения         NaN         NaN  Нормативные значения   \n",
              "1                  Т ух      Изб рс     присосы                  Т ух   \n",
              "2                     С           -           %                     С   \n",
              "3                 177,0        1,31        12,8                 164,5   \n",
              "4                 177,0        1,31        12,8                 164,6   \n",
              "\n",
              "  Unnamed: 42 Unnamed: 43                 Unnamed: 44 Unnamed: 45 Unnamed: 46  \\\n",
              "0         NaN         NaN  Пережоги условного топлива         NaN         NaN   \n",
              "1      Изб рс     присосы                        Т ух      Изб рс     присосы   \n",
              "2           -           %                       тут/ч       тут/ч       тут/ч   \n",
              "3        1,32        20,0                        0,30       -0,02       -0,15   \n",
              "4        1,32        19,9                        0,30       -0,02       -0,15   \n",
              "\n",
              "  Unnamed: 47  \n",
              "0         NaN  \n",
              "1       ВСЕГО  \n",
              "2       тут/ч  \n",
              "3        0,13  \n",
              "4        0,13  \n",
              "\n",
              "[5 rows x 49 columns]"
            ],
            "text/html": [
              "\n",
              "  <div id=\"df-9e655bcd-d641-4759-b36e-eb664a4a34fc\">\n",
              "    <div class=\"colab-df-container\">\n",
              "      <div>\n",
              "<style scoped>\n",
              "    .dataframe tbody tr th:only-of-type {\n",
              "        vertical-align: middle;\n",
              "    }\n",
              "\n",
              "    .dataframe tbody tr th {\n",
              "        vertical-align: top;\n",
              "    }\n",
              "\n",
              "    .dataframe thead th {\n",
              "        text-align: right;\n",
              "    }\n",
              "</style>\n",
              "<table border=\"1\" class=\"dataframe\">\n",
              "  <thead>\n",
              "    <tr style=\"text-align: right;\">\n",
              "      <th></th>\n",
              "      <th>Unnamed: 0</th>\n",
              "      <th>Котлы группы 130</th>\n",
              "      <th>Unnamed: 1</th>\n",
              "      <th>Unnamed: 2</th>\n",
              "      <th>Unnamed: 3</th>\n",
              "      <th>КА-9</th>\n",
              "      <th>Unnamed: 5</th>\n",
              "      <th>Unnamed: 6</th>\n",
              "      <th>Unnamed: 7</th>\n",
              "      <th>Unnamed: 8</th>\n",
              "      <th>...</th>\n",
              "      <th>Unnamed: 38</th>\n",
              "      <th>Unnamed: 39</th>\n",
              "      <th>Unnamed: 40</th>\n",
              "      <th>Unnamed: 41</th>\n",
              "      <th>Unnamed: 42</th>\n",
              "      <th>Unnamed: 43</th>\n",
              "      <th>Unnamed: 44</th>\n",
              "      <th>Unnamed: 45</th>\n",
              "      <th>Unnamed: 46</th>\n",
              "      <th>Unnamed: 47</th>\n",
              "    </tr>\n",
              "  </thead>\n",
              "  <tbody>\n",
              "    <tr>\n",
              "      <th>0</th>\n",
              "      <td>0</td>\n",
              "      <td>Пережоги условного топлива</td>\n",
              "      <td>NaN</td>\n",
              "      <td>NaN</td>\n",
              "      <td>NaN</td>\n",
              "      <td>Dпе</td>\n",
              "      <td>Фактические значения</td>\n",
              "      <td>NaN</td>\n",
              "      <td>NaN</td>\n",
              "      <td>Нормативные значения</td>\n",
              "      <td>...</td>\n",
              "      <td>Фактические значения</td>\n",
              "      <td>NaN</td>\n",
              "      <td>NaN</td>\n",
              "      <td>Нормативные значения</td>\n",
              "      <td>NaN</td>\n",
              "      <td>NaN</td>\n",
              "      <td>Пережоги условного топлива</td>\n",
              "      <td>NaN</td>\n",
              "      <td>NaN</td>\n",
              "      <td>NaN</td>\n",
              "    </tr>\n",
              "    <tr>\n",
              "      <th>1</th>\n",
              "      <td>1</td>\n",
              "      <td>Т ух</td>\n",
              "      <td>Изб рс</td>\n",
              "      <td>присосы</td>\n",
              "      <td>ВСЕГО</td>\n",
              "      <td>NaN</td>\n",
              "      <td>Т ух</td>\n",
              "      <td>Изб рс</td>\n",
              "      <td>присосы</td>\n",
              "      <td>Т ух</td>\n",
              "      <td>...</td>\n",
              "      <td>Т ух</td>\n",
              "      <td>Изб рс</td>\n",
              "      <td>присосы</td>\n",
              "      <td>Т ух</td>\n",
              "      <td>Изб рс</td>\n",
              "      <td>присосы</td>\n",
              "      <td>Т ух</td>\n",
              "      <td>Изб рс</td>\n",
              "      <td>присосы</td>\n",
              "      <td>ВСЕГО</td>\n",
              "    </tr>\n",
              "    <tr>\n",
              "      <th>2</th>\n",
              "      <td>2</td>\n",
              "      <td>тут/ч</td>\n",
              "      <td>тут/ч</td>\n",
              "      <td>тут/ч</td>\n",
              "      <td>тут/ч</td>\n",
              "      <td>т/ч</td>\n",
              "      <td>С</td>\n",
              "      <td>-</td>\n",
              "      <td>%</td>\n",
              "      <td>С</td>\n",
              "      <td>...</td>\n",
              "      <td>С</td>\n",
              "      <td>-</td>\n",
              "      <td>%</td>\n",
              "      <td>С</td>\n",
              "      <td>-</td>\n",
              "      <td>%</td>\n",
              "      <td>тут/ч</td>\n",
              "      <td>тут/ч</td>\n",
              "      <td>тут/ч</td>\n",
              "      <td>тут/ч</td>\n",
              "    </tr>\n",
              "    <tr>\n",
              "      <th>3</th>\n",
              "      <td>3</td>\n",
              "      <td>0,66</td>\n",
              "      <td>0,38</td>\n",
              "      <td>-0,29</td>\n",
              "      <td>0,74</td>\n",
              "      <td>215</td>\n",
              "      <td>165,2</td>\n",
              "      <td>1,50</td>\n",
              "      <td>16,3</td>\n",
              "      <td>154,4</td>\n",
              "      <td>...</td>\n",
              "      <td>177,0</td>\n",
              "      <td>1,31</td>\n",
              "      <td>12,8</td>\n",
              "      <td>164,5</td>\n",
              "      <td>1,32</td>\n",
              "      <td>20,0</td>\n",
              "      <td>0,30</td>\n",
              "      <td>-0,02</td>\n",
              "      <td>-0,15</td>\n",
              "      <td>0,13</td>\n",
              "    </tr>\n",
              "    <tr>\n",
              "      <th>4</th>\n",
              "      <td>4</td>\n",
              "      <td>0,63</td>\n",
              "      <td>0,39</td>\n",
              "      <td>-0,30</td>\n",
              "      <td>0,72</td>\n",
              "      <td>218</td>\n",
              "      <td>164,4</td>\n",
              "      <td>1,50</td>\n",
              "      <td>16,2</td>\n",
              "      <td>154,5</td>\n",
              "      <td>...</td>\n",
              "      <td>177,0</td>\n",
              "      <td>1,31</td>\n",
              "      <td>12,8</td>\n",
              "      <td>164,6</td>\n",
              "      <td>1,32</td>\n",
              "      <td>19,9</td>\n",
              "      <td>0,30</td>\n",
              "      <td>-0,02</td>\n",
              "      <td>-0,15</td>\n",
              "      <td>0,13</td>\n",
              "    </tr>\n",
              "  </tbody>\n",
              "</table>\n",
              "<p>5 rows × 49 columns</p>\n",
              "</div>\n",
              "      <button class=\"colab-df-convert\" onclick=\"convertToInteractive('df-9e655bcd-d641-4759-b36e-eb664a4a34fc')\"\n",
              "              title=\"Convert this dataframe to an interactive table.\"\n",
              "              style=\"display:none;\">\n",
              "        \n",
              "  <svg xmlns=\"http://www.w3.org/2000/svg\" height=\"24px\"viewBox=\"0 0 24 24\"\n",
              "       width=\"24px\">\n",
              "    <path d=\"M0 0h24v24H0V0z\" fill=\"none\"/>\n",
              "    <path d=\"M18.56 5.44l.94 2.06.94-2.06 2.06-.94-2.06-.94-.94-2.06-.94 2.06-2.06.94zm-11 1L8.5 8.5l.94-2.06 2.06-.94-2.06-.94L8.5 2.5l-.94 2.06-2.06.94zm10 10l.94 2.06.94-2.06 2.06-.94-2.06-.94-.94-2.06-.94 2.06-2.06.94z\"/><path d=\"M17.41 7.96l-1.37-1.37c-.4-.4-.92-.59-1.43-.59-.52 0-1.04.2-1.43.59L10.3 9.45l-7.72 7.72c-.78.78-.78 2.05 0 2.83L4 21.41c.39.39.9.59 1.41.59.51 0 1.02-.2 1.41-.59l7.78-7.78 2.81-2.81c.8-.78.8-2.07 0-2.86zM5.41 20L4 18.59l7.72-7.72 1.47 1.35L5.41 20z\"/>\n",
              "  </svg>\n",
              "      </button>\n",
              "      \n",
              "  <style>\n",
              "    .colab-df-container {\n",
              "      display:flex;\n",
              "      flex-wrap:wrap;\n",
              "      gap: 12px;\n",
              "    }\n",
              "\n",
              "    .colab-df-convert {\n",
              "      background-color: #E8F0FE;\n",
              "      border: none;\n",
              "      border-radius: 50%;\n",
              "      cursor: pointer;\n",
              "      display: none;\n",
              "      fill: #1967D2;\n",
              "      height: 32px;\n",
              "      padding: 0 0 0 0;\n",
              "      width: 32px;\n",
              "    }\n",
              "\n",
              "    .colab-df-convert:hover {\n",
              "      background-color: #E2EBFA;\n",
              "      box-shadow: 0px 1px 2px rgba(60, 64, 67, 0.3), 0px 1px 3px 1px rgba(60, 64, 67, 0.15);\n",
              "      fill: #174EA6;\n",
              "    }\n",
              "\n",
              "    [theme=dark] .colab-df-convert {\n",
              "      background-color: #3B4455;\n",
              "      fill: #D2E3FC;\n",
              "    }\n",
              "\n",
              "    [theme=dark] .colab-df-convert:hover {\n",
              "      background-color: #434B5C;\n",
              "      box-shadow: 0px 1px 3px 1px rgba(0, 0, 0, 0.15);\n",
              "      filter: drop-shadow(0px 1px 2px rgba(0, 0, 0, 0.3));\n",
              "      fill: #FFFFFF;\n",
              "    }\n",
              "  </style>\n",
              "\n",
              "      <script>\n",
              "        const buttonEl =\n",
              "          document.querySelector('#df-9e655bcd-d641-4759-b36e-eb664a4a34fc button.colab-df-convert');\n",
              "        buttonEl.style.display =\n",
              "          google.colab.kernel.accessAllowed ? 'block' : 'none';\n",
              "\n",
              "        async function convertToInteractive(key) {\n",
              "          const element = document.querySelector('#df-9e655bcd-d641-4759-b36e-eb664a4a34fc');\n",
              "          const dataTable =\n",
              "            await google.colab.kernel.invokeFunction('convertToInteractive',\n",
              "                                                     [key], {});\n",
              "          if (!dataTable) return;\n",
              "\n",
              "          const docLinkHtml = 'Like what you see? Visit the ' +\n",
              "            '<a target=\"_blank\" href=https://colab.research.google.com/notebooks/data_table.ipynb>data table notebook</a>'\n",
              "            + ' to learn more about interactive tables.';\n",
              "          element.innerHTML = '';\n",
              "          dataTable['output_type'] = 'display_data';\n",
              "          await google.colab.output.renderOutput(dataTable, element);\n",
              "          const docLink = document.createElement('div');\n",
              "          docLink.innerHTML = docLinkHtml;\n",
              "          element.appendChild(docLink);\n",
              "        }\n",
              "      </script>\n",
              "    </div>\n",
              "  </div>\n",
              "  "
            ]
          },
          "metadata": {},
          "execution_count": 174
        }
      ]
    },
    {
      "cell_type": "code",
      "source": [
        "df = df.drop(columns=['Unnamed: 0'])\n",
        "df2 = df2.drop(columns=['Unnamed: 0'])"
      ],
      "metadata": {
        "id": "dOtJOzBvRZ6z"
      },
      "execution_count": 175,
      "outputs": []
    },
    {
      "cell_type": "markdown",
      "source": [
        "# Change name colums in mk2-part1 "
      ],
      "metadata": {
        "id": "Yp6z-gM8aOA9"
      }
    },
    {
      "cell_type": "code",
      "source": [
        "start_name = []\n",
        "for col in df.columns:\n",
        "  if col[0] == \"U\":\n",
        "    start_name.append(\"\")\n",
        "  else:\n",
        "    start_name.append(col)"
      ],
      "metadata": {
        "id": "lSlIaEgyTndb"
      },
      "execution_count": 176,
      "outputs": []
    },
    {
      "cell_type": "code",
      "source": [
        "name = []\n",
        "for i in range(21):\n",
        "  for idx, row in df.iterrows():\n",
        "    if isinstance(row[i], str):\n",
        "      name.append(row[i])\n",
        "    else:\n",
        "      name.append(\"\")\n",
        "    break"
      ],
      "metadata": {
        "id": "vUtJ7JB7RZ9a"
      },
      "execution_count": 177,
      "outputs": []
    },
    {
      "cell_type": "code",
      "source": [
        "name_next_line = []\n",
        "for i in range(21):\n",
        "  for index, row in df.iloc [1:2, :].iterrows ():\n",
        "    if isinstance(row[i], str):\n",
        "      name_next_line.append(row[i])\n",
        "    else:\n",
        "      name_next_line.append(\"\")\n",
        "      break"
      ],
      "metadata": {
        "id": "KHSbsVEiUS9y"
      },
      "execution_count": 178,
      "outputs": []
    },
    {
      "cell_type": "code",
      "source": [
        "name_next_line_2 = []\n",
        "for i in range(21):\n",
        "  for index, row in df.iloc [2:3, :].iterrows ():\n",
        "    if isinstance(row[i], str):\n",
        "      name_next_line_2.append(row[i])\n",
        "    else:\n",
        "      name_next_line_2.append(\"\")\n",
        "    break"
      ],
      "metadata": {
        "id": "I-xZzgPGUfJZ"
      },
      "execution_count": 179,
      "outputs": []
    },
    {
      "cell_type": "code",
      "source": [
        "for i in range(0,21):\n",
        "        df=df.rename(columns={df.columns[i]: str(start_name[i]) + \" \" + str(name[i]) + \" \" + str(name_next_line[i]) + \" \" + str(name_next_line_2[i])})"
      ],
      "metadata": {
        "id": "2hrQAkdaVpjS"
      },
      "execution_count": 180,
      "outputs": []
    },
    {
      "cell_type": "code",
      "source": [
        "df = df.drop(labels = [0],axis = 0)\n",
        "df = df.drop(labels = [1],axis = 0)\n",
        "df = df.drop(labels = [2],axis = 0)"
      ],
      "metadata": {
        "id": "MxWidR11YKy0"
      },
      "execution_count": 181,
      "outputs": []
    },
    {
      "cell_type": "code",
      "source": [
        "df = df.reset_index(drop=True)"
      ],
      "metadata": {
        "id": "kexzsrviZEK9"
      },
      "execution_count": 182,
      "outputs": []
    },
    {
      "cell_type": "markdown",
      "source": [
        "# Change name colums in mk2-part2 "
      ],
      "metadata": {
        "id": "2pDVuv16aWVA"
      }
    },
    {
      "cell_type": "code",
      "source": [
        "start_name = []\n",
        "for col in df2.columns:\n",
        "  if col[0] == \"U\":\n",
        "    start_name.append(\"\")\n",
        "  else:\n",
        "    start_name.append(col)"
      ],
      "metadata": {
        "id": "vrOTYgTHaZ54"
      },
      "execution_count": 183,
      "outputs": []
    },
    {
      "cell_type": "code",
      "source": [
        "name = []\n",
        "for i in range(48):\n",
        "  for idx, row in df2.iterrows():\n",
        "    if isinstance(row[i], str):\n",
        "      name.append(row[i])\n",
        "    else:\n",
        "      name.append(\"\")\n",
        "    break"
      ],
      "metadata": {
        "id": "0odvkM8taZ8X"
      },
      "execution_count": 184,
      "outputs": []
    },
    {
      "cell_type": "code",
      "source": [
        "name_next_line = []\n",
        "for i in range(48):\n",
        "  for index, row in df2.iloc [1:2, :].iterrows ():\n",
        "    if isinstance(row[i], str):\n",
        "      name_next_line.append(row[i])\n",
        "    else:\n",
        "      name_next_line.append(\"\")\n",
        "      break"
      ],
      "metadata": {
        "id": "EYT5ci63a3j_"
      },
      "execution_count": 185,
      "outputs": []
    },
    {
      "cell_type": "code",
      "source": [
        "name_next_line_2 = []\n",
        "for i in range(48):\n",
        "  for index, row in df2.iloc [2:3, :].iterrows ():\n",
        "    if isinstance(row[i], str):\n",
        "      if row[i] == \"-\":\n",
        "        name_next_line_2.append(\"\")\n",
        "      else:\n",
        "        name_next_line_2.append(row[i])\n",
        "    else:\n",
        "      name_next_line_2.append(\"\")\n",
        "    break"
      ],
      "metadata": {
        "id": "yvPmWx4Pa5pq"
      },
      "execution_count": 186,
      "outputs": []
    },
    {
      "cell_type": "code",
      "source": [
        "for i in range(0,48):\n",
        "        df2=df2.rename(columns={df2.columns[i]: str(start_name[i]) + \" \" + str(name[i]) + \" \" + str(name_next_line[i]) + \" \" + str(name_next_line_2[i])})"
      ],
      "metadata": {
        "id": "7vHc_myMa7kC"
      },
      "execution_count": 187,
      "outputs": []
    },
    {
      "cell_type": "code",
      "source": [
        "df2 = df2.drop(labels = [0],axis = 0)\n",
        "df2 = df2.drop(labels = [1],axis = 0)\n",
        "df2 = df2.drop(labels = [2],axis = 0)"
      ],
      "metadata": {
        "id": "yglZQICKa9q4"
      },
      "execution_count": 188,
      "outputs": []
    },
    {
      "cell_type": "code",
      "source": [
        "df2 = df2.reset_index(drop=True)"
      ],
      "metadata": {
        "id": "lq4y3jkNa_yD"
      },
      "execution_count": 189,
      "outputs": []
    },
    {
      "cell_type": "code",
      "source": [
        "df.to_csv('mk2-part1_normal_name_columns.csv')\n",
        "df2.to_csv('mk2-part2_normal_name_columns.csv')"
      ],
      "metadata": {
        "id": "yz_Nzx4_byGa"
      },
      "execution_count": 190,
      "outputs": []
    }
  ]
}