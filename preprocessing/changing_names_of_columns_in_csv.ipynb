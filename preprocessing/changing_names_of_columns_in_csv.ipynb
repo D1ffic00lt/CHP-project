{
  "nbformat": 4,
  "nbformat_minor": 0,
  "metadata": {
    "colab": {
      "provenance": [],
      "toc_visible": true
    },
    "kernelspec": {
      "name": "python3",
      "display_name": "Python 3"
    },
    "language_info": {
      "name": "python"
    }
  },
  "cells": [
    {
      "cell_type": "markdown",
      "source": [
        "## Библиотеки"
      ],
      "metadata": {
        "id": "ApK4mxJ4flpD"
      }
    },
    {
      "cell_type": "code",
      "execution_count": null,
      "metadata": {
        "id": "bW3AwR_5iXeI"
      },
      "outputs": [],
      "source": [
        "import pandas as pd \n",
        "import numpy as np"
      ]
    },
    {
      "cell_type": "markdown",
      "source": [
        "## Изменение файла page2"
      ],
      "metadata": {
        "id": "lxUb7JpAfspZ"
      }
    },
    {
      "cell_type": "code",
      "source": [
        "page2_normal_1 = pd.read_csv('page2_normal_1.csv')"
      ],
      "metadata": {
        "id": "TIdSUyZjizAC"
      },
      "execution_count": null,
      "outputs": []
    },
    {
      "cell_type": "code",
      "source": [
        "page2_normal_1 = page2_normal_1.drop('Unnamed: 0', axis=1)"
      ],
      "metadata": {
        "id": "z9OjutAFi_m8"
      },
      "execution_count": null,
      "outputs": []
    },
    {
      "cell_type": "code",
      "source": [
        "page2_normal_1 = page2_normal_1.rename(columns={\"Выработка электроэнергии ТА гр.130 00T000GE0L19\": \"power_generation_of_turbine_gr130_00T000GE0L19\", \n",
        "                                                \"Выработка электроэнергии ТА гр.90 00T000GE0N19\": \"power_generation_of_turbine_gr90_00T000GE0N19\",\n",
        "                                                \"Удельный расход тепла на выработку э/э ТА гр.130 00T000DU0L19\": \n",
        "                                                \"specific_heat_consumption_for_power_generation_of_turbine_gr130_00T000DU0L19\",\n",
        "                                                \"Удельный расход тепла на выработку э/э ТА гр.90 00T000DU0N19\": \n",
        "                                                \"specific_heat_consumption_for_power_generation_of_turbine_gr90_00T000DU0N19\",\n",
        "                                                \"Удельный расход условного топлива на отпуск э/э гр.130 00S000GD0L19\":\n",
        "                                                \"specific_reference_fuel_consumption_for_power_release_gr130_00S000GD0L19\",\n",
        "                                                \"Удельный расход условного топлива на отпуск э/э гр.90 00S000GD0N19\":\n",
        "                                                \"specific_reference_fuel_consumption_for_power_release_gr90_00S000GD0N19\",\n",
        "                                                \"Расход пара в конденсатор ТА №3 03T110DH0N19\": \"steam_consumption_to_the_turbine_condenser_3_03T110DH0N19\",\n",
        "                                                \"Расход пара в конденсатор ТА №4 04T110DH0N19\": \"steam_consumption_to_the_turbine_condenser_4_04T110DH0N19\",\n",
        "                                                \"Расход пара в конденсатор ТА №5 05T110DH0L19\": \"steam_consumption_to_the_turbine_condenser_5_05T110DH0L19\",\n",
        "                                                \"Расход пара в конденсатор ТА №6 06T110DH0L19\": \"steam_consumption_to_the_turbine_condenser_6_06T110DH0L19\",\n",
        "                                                \"Расход пара в конденсатор ТА №7 07T110DH0L19\": \"steam_consumption_to_the_turbine_condenser_7_07T110DH0L19\",\n",
        "                                                \"Расход пара в конденсатор ТА №8 08T110DH0L19\": \"steam_consumption_to_the_turbine_condenser_8_08T110DH0L19\",\n",
        "                                                \"Расход свежего пара ТА №3 03T000GR0N19\": \"fresh_steam_consumption_of_turbine_3_03T000GR0N19\",\n",
        "                                                \"Расход свежего пара ТА №4 04T000GR0N19\": \"fresh_steam_consumption_of_turbine_4_04T000GR0N19\",\n",
        "                                                \"Расход свежего пара ТА №5 05T000GR0N19\": \"fresh_steam_consumption_of_turbine_5_05T000GR0N19\",\n",
        "                                                \"Средний расход свежего пара ТА №6 06T100GR0L19\": \"average_fresh_steam_consumption_of_turbine_6_06T100GR0L19\",\n",
        "                                                \"Средний расход свежего пара ТА №7 07T100GR0L19\": \"average_fresh_steam_consumption_of_turbine_7_07T100GR0L19\",\n",
        "                                                \"Средний расход свежего пара ТА №8 08T100GR0L19\": \"average_fresh_steam_consumption_of_turbine_8_08T100GR0L19\",\n",
        "                                                \"Расход топлива в условном исчислении КА №10 10K000GB0L19\": \"fuel_consumption_in_conditional_calculation_of_KA_10_10K000GB0L19\",\n",
        "                                                \"Расход топлива в условном исчислении КА №11 11K000GB0L19\": \"fuel_consumption_in_conditional_calculation_of_KA_11_11K000GB0L19\",\n",
        "                                                \"Расход топлива в условном исчислении КА №12 12K000GB0L19\": \"fuel_consumption_in_conditional_calculation_of_KA_12_12K000GB0L19\",\n",
        "                                                \"Расход топлива в условном исчислении КА №5 05K000GB0N19\": \"fuel_consumption_in_conditional_calculation_of_KA_5_05K000GB0N19\",\n",
        "                                                \"Расход топлива в условном исчислении КА №6 06K000GB0N19\": \"fuel_consumption_in_conditional_calculation_of_KA_6_06K000GB0N19\",\n",
        "                                                \"Расход топлива в условном исчислении КА №7 07K000GB0N19\": \"fuel_consumption_in_conditional_calculation_of_KA_7_07K000GB0N19\",\n",
        "                                                \"Расход топлива в условном исчислении КА №8 08K000GB0N19\": \"fuel_consumption_in_conditional_calculation_of_KA_8_08K000GB0N19\",\n",
        "                                                \"Расход топлива в условном исчислении КА №9 09K000GB0L19\": \"fuel_consumption_in_conditional_calculation_of_KA_9_09K000GB0L19\",\n",
        "                                                \"Средний расход перегретого пара КА №10 10K100GR0L19\": \"average_superheated_steam_consumption_of_KA_10_10K100GR0L19\",\n",
        "                                                \"Средний расход перегретого пара КА №11 11K100GR0L19\": \"average_superheated_steam_consumption_of_KA_11_11K100GR0L19\",\n",
        "                                                \"Средний расход перегретого пара КА №12 12K100GR0L19\": \"average_superheated_steam_consumption_of_KA_12_12K100GR0L19\",\n",
        "                                                \"Средний расход перегретого пара КА №5 05K100GR0N19\": \"average_superheated_steam_consumption_of_KA_5_05K100GR0N19\",\n",
        "                                                \"Средний расход перегретого пара КА №6 06K100GR0N19\": \"average_superheated_steam_consumption_of_KA_6_06K100GR0N19\",\n",
        "                                                \"Средний расход перегретого пара КА №7 07K100GR0N19\": \"average_superheated_steam_consumption_of_KA_7_07K100GR0N19\",\n",
        "                                                \"Средний расход перегретого пара КА №8 08K100GR0N19\": \"average_superheated_steam_consumption_of_KA_8_08K100GR0N19\",\n",
        "                                                \"Средний расход перегретого пара КА №9 09K100GR0L19\": \"average_superheated_steam_consumption_of_KA_9_09K100GR0L19\",\n",
        "                                                \"Отпуск тепла из ТО ТА гр.130 00T000QT0L19\": \"heat_release_from_TO_turbine_gr130_00T000QT0L19\",\n",
        "                                                \"Отпуск тепла из ТО ТА гр.90 00T000QT0N19\": \"heat_release_from_TO_turbine_gr90_00T000QT0N19\",\n",
        "                                                \"Отпуск тепла из ТО ТА №3 03T000QT0N19\": \"heat_release_from_TO_turbine_3_03T000QT0N19\",\n",
        "                                                \"Отпуск тепла из ТО ТА №4 04T000QT0N19\": \"heat_release_from_TO_turbine_4_04T000QT0N19\",\n",
        "                                                \"Отпуск тепла из ТО ТА №5 05T000QT0N19\": \"heat_release_from_TO_turbine_5_05T000QT0N19\",\n",
        "                                                \"Отпуск тепла из ТО ТА №6 06T000QT0L19\": \"heat_release_from_TO_turbine_6_06T000QT0L19\",\n",
        "                                                \"Отпуск тепла из ТО ТА №7 07T000QT0L19\": \"heat_release_from_TO_turbine_7_07T000QT0L19\",\n",
        "                                                \"Отпуск тепла из ТО ТА №8 08T000QT0L19\": \"heat_release_from_TO_turbine_8_08T000QT0L19\"\n",
        "                                                })"
      ],
      "metadata": {
        "id": "PTd5URGblA2P"
      },
      "execution_count": null,
      "outputs": []
    },
    {
      "cell_type": "code",
      "source": [
        "page2_normal_1.nunique()"
      ],
      "metadata": {
        "id": "OA2NqUchmVR1",
        "colab": {
          "base_uri": "https://localhost:8080/"
        },
        "outputId": "0469ca5f-86f6-4172-cd0a-e816b7eb12fb"
      },
      "execution_count": null,
      "outputs": [
        {
          "output_type": "execute_result",
          "data": {
            "text/plain": [
              "Period_Time                                                                     1461\n",
              "power_generation_of_turbine_gr130_00T000GE0L19                                  1201\n",
              "power_generation_of_turbine_gr90_00T000GE0N19                                    880\n",
              "specific_heat_consumption_for_power_generation_of_turbine_gr130_00T000DU0L19    1202\n",
              "specific_heat_consumption_for_power_generation_of_turbine_gr90_00T000DU0N19      882\n",
              "specific_reference_fuel_consumption_for_power_release_gr130_00S000GD0L19        1202\n",
              "specific_reference_fuel_consumption_for_power_release_gr90_00S000GD0N19          886\n",
              "steam_consumption_to_the_turbine_condenser_3_03T110DH0N19                        199\n",
              "steam_consumption_to_the_turbine_condenser_4_04T110DH0N19                        272\n",
              "steam_consumption_to_the_turbine_condenser_5_05T110DH0L19                        411\n",
              "steam_consumption_to_the_turbine_condenser_6_06T110DH0L19                        786\n",
              "steam_consumption_to_the_turbine_condenser_7_07T110DH0L19                        605\n",
              "steam_consumption_to_the_turbine_condenser_8_08T110DH0L19                        547\n",
              "fresh_steam_consumption_of_turbine_3_03T000GR0N19                                248\n",
              "fresh_steam_consumption_of_turbine_4_04T000GR0N19                                329\n",
              "fresh_steam_consumption_of_turbine_5_05T000GR0N19                                454\n",
              "average_fresh_steam_consumption_of_turbine_6_06T100GR0L19                        906\n",
              "average_fresh_steam_consumption_of_turbine_7_07T100GR0L19                        708\n",
              "average_fresh_steam_consumption_of_turbine_8_08T100GR0L19                        668\n",
              "fuel_consumption_in_conditional_calculation_of_KA_10_10K000GB0L19                439\n",
              "fuel_consumption_in_conditional_calculation_of_KA_11_11K000GB0L19                375\n",
              "fuel_consumption_in_conditional_calculation_of_KA_12_12K000GB0L19                407\n",
              "fuel_consumption_in_conditional_calculation_of_KA_5_05K000GB0N19                 139\n",
              "fuel_consumption_in_conditional_calculation_of_KA_6_06K000GB0N19                 172\n",
              "fuel_consumption_in_conditional_calculation_of_KA_7_07K000GB0N19                 219\n",
              "fuel_consumption_in_conditional_calculation_of_KA_8_08K000GB0N19                 199\n",
              "fuel_consumption_in_conditional_calculation_of_KA_9_09K000GB0L19                 388\n",
              "average_superheated_steam_consumption_of_KA_10_10K100GR0L19                      863\n",
              "average_superheated_steam_consumption_of_KA_11_11K100GR0L19                      764\n",
              "average_superheated_steam_consumption_of_KA_12_12K100GR0L19                      696\n",
              "average_superheated_steam_consumption_of_KA_5_05K100GR0N19                       297\n",
              "average_superheated_steam_consumption_of_KA_6_06K100GR0N19                       341\n",
              "average_superheated_steam_consumption_of_KA_7_07K100GR0N19                       539\n",
              "average_superheated_steam_consumption_of_KA_8_08K100GR0N19                       448\n",
              "average_superheated_steam_consumption_of_KA_9_09K100GR0L19                       735\n",
              "heat_release_from_TO_turbine_gr130_00T000QT0L19                                 1119\n",
              "heat_release_from_TO_turbine_gr90_00T000QT0N19                                   627\n",
              "heat_release_from_TO_turbine_3_03T000QT0N19                                      198\n",
              "heat_release_from_TO_turbine_4_04T000QT0N19                                      249\n",
              "heat_release_from_TO_turbine_5_05T000QT0N19                                      402\n",
              "heat_release_from_TO_turbine_6_06T000QT0L19                                      817\n",
              "heat_release_from_TO_turbine_7_07T000QT0L19                                      630\n",
              "heat_release_from_TO_turbine_8_08T000QT0L19                                      614\n",
              "dtype: int64"
            ]
          },
          "metadata": {},
          "execution_count": 90
        }
      ]
    },
    {
      "cell_type": "markdown",
      "source": [
        "## Изменение файла db"
      ],
      "metadata": {
        "id": "CbQNW-iDfzKG"
      }
    },
    {
      "cell_type": "code",
      "source": [
        "db = pd.read_csv('db.csv')"
      ],
      "metadata": {
        "id": "CjI_-SifnSPP"
      },
      "execution_count": null,
      "outputs": []
    },
    {
      "cell_type": "code",
      "source": [
        "db = db.drop('Unnamed: 0', axis=1)\n",
        "db = db.drop('Unnamed: 37', axis=1)"
      ],
      "metadata": {
        "id": "cjNFREr3m-Wq"
      },
      "execution_count": null,
      "outputs": []
    },
    {
      "cell_type": "code",
      "source": [
        "db = db.rename(columns={\"Дата\": \"date\",\n",
        "                        \"Выработка электроэнергии ТА гр.130\": \"power_generation_of_turbine_gr130\",\n",
        "                        \"Отпуск тепла из ТО ТА гр.130\": \"heat_release_from_TO_turbine_gr130\",\n",
        "                        \"Удельный расход условного топлива на отпуск э/э гр.130\":\n",
        "                        \"specific_reference_fuel_consumption_for_power_release_gr130\",\n",
        "                        \"Выработка электроэнергии ТА гр.90\": \"power_generation_of_turbine_gr90\",\n",
        "                        \"Удельный расход тепла на выработку э/э ТА гр.130\": \n",
        "                        \"specific_heat_consumption_for_power_generation_of_turbine_gr130\",\n",
        "                        \"Удельный расход тепла на выработку э/э ТА гр.90\": \n",
        "                        \"specific_heat_consumption_for_power_generation_of_turbine_gr90\",\n",
        "                        \"Удельный расход условного топлива на отпуск э/э гр.90\":\n",
        "                        \"specific_reference_fuel_consumption_for_power_release_gr90\",\n",
        "                        \"Расход пара в конденсатор ТА №3\": \"steam_consumption_to_the_turbine_condenser_3\",\n",
        "                        \"Расход пара в конденсатор ТА №4\": \"steam_consumption_to_the_turbine_condenser_4\",\n",
        "                        \"Расход пара в конденсатор ТА №5\": \"steam_consumption_to_the_turbine_condenser_5\",\n",
        "                        \"Расход пара в конденсатор ТА №6\": \"steam_consumption_to_the_turbine_condenser_6\",\n",
        "                        \"Расход пара в конденсатор ТА №7\": \"steam_consumption_to_the_turbine_condenser_7\",\n",
        "                        \"Расход пара в конденсатор ТА №8\": \"steam_consumption_to_the_turbine_condenser_8\",\n",
        "                        \"Расход свежего пара ТА №3\": \"fresh_steam_consumption_of_turbine_3\",\n",
        "                        \"Расход свежего пара ТА №4\": \"fresh_steam_consumption_of_turbine_4\",\n",
        "                        \"Расход свежего пара ТА №5\": \"fresh_steam_consumption_of_turbine_5\",\n",
        "                        \"Средний расход свежего пара ТА №6\": \"average_fresh_steam_consumption_of_turbine_6\",\n",
        "                        \"Средний расход свежего пара ТА №7\": \"average_fresh_steam_consumption_of_turbine_7\",\n",
        "                        \"Средний расход свежего пара ТА №8\": \"average_fresh_steam_consumption_of_turbine_8\",\n",
        "                        \"Расход топлива в условном исчислении КА №10\": \"fuel_consumption_in_conditional_calculation_of_KA_10\",\n",
        "                        \"Расход топлива в условном исчислении КА №11\": \"fuel_consumption_in_conditional_calculation_of_KA_11\",\n",
        "                        \"Расход топлива в условном исчислении КА №12\": \"fuel_consumption_in_conditional_calculation_of_KA_12\",\n",
        "                        \"Расход топлива в условном исчислении КА №5\": \"fuel_consumption_in_conditional_calculation_of_KA_5\",\n",
        "                        \"Расход топлива в условном исчислении КА №6\": \"fuel_consumption_in_conditional_calculation_of_KA_6\",\n",
        "                        \"Расход топлива в условном исчислении КА №7\": \"fuel_consumption_in_conditional_calculation_of_KA_7\",\n",
        "                        \"Расход топлива в условном исчислении КА №8\": \"fuel_consumption_in_conditional_calculation_of_KA_8\",\n",
        "                        \"Расход топлива в условном исчислении КА №9\": \"fuel_consumption_in_conditional_calculation_of_KA_9\",\n",
        "                        \"Средний расход перегретого пара КА №10\": \"average_superheated_steam_consumption_of_KA_10\",\n",
        "                        \"Средний расход перегретого пара КА №11\": \"average_superheated_steam_consumption_of_KA_11\",\n",
        "                        \"Средний расход перегретого пара КА №12\": \"average_superheated_steam_consumption_of_KA_12\",\n",
        "                        \"Средний расход перегретого пара КА №5\": \"average_superheated_steam_consumption_of_KA_5\",\n",
        "                        \"Средний расход перегретого пара КА №6\": \"average_superheated_steam_consumption_of_KA_6\",\n",
        "                        \"Средний расход перегретого пара КА №7\": \"average_superheated_steam_consumption_of_KA_7\",\n",
        "                        \"Средний расход перегретого пара КА №8\": \"average_superheated_steam_consumption_of_KA_8\",\n",
        "                        \"Средний расход перегретого пара КА №9\": \"average_superheated_steam_consumption_of_KA_9\",\n",
        "                        \"Отпуск тепла из ТО ТА гр.90\": \"heat_release_from_TO_turbine_gr90\",\n",
        "                        \"Отпуск тепла из ТО ТА №3\": \"heat_release_from_TO_turbine_3\",\n",
        "                        \"Отпуск тепла из ТО ТА №4\": \"heat_release_from_TO_turbine_4\",\n",
        "                        \"Отпуск тепла из ТО ТА №5\": \"heat_release_from_TO_turbine_5\",\n",
        "                        \"Отпуск тепла из ТО ТА №6\": \"heat_release_from_TO_turbine_6\",\n",
        "                        \"Отпуск тепла из ТО ТА №7\": \"heat_release_from_TO_turbine_7\",\n",
        "                        \"Отпуск тепла из ТО ТА №8\": \"heat_release_from_TO_turbine_8\"})"
      ],
      "metadata": {
        "id": "-o8IG_rIncQx"
      },
      "execution_count": null,
      "outputs": []
    },
    {
      "cell_type": "code",
      "source": [
        "db.nunique()"
      ],
      "metadata": {
        "colab": {
          "base_uri": "https://localhost:8080/"
        },
        "id": "Gk-nUnWdm4Qy",
        "outputId": "6cef2ba9-8c06-49fc-87d3-841f0fc25c0d"
      },
      "execution_count": null,
      "outputs": [
        {
          "output_type": "execute_result",
          "data": {
            "text/plain": [
              "date                                                               1341\n",
              "power_generation_of_turbine_gr130                                  1081\n",
              "heat_release_from_TO_turbine_gr130                                 1009\n",
              "specific_reference_fuel_consumption_for_power_release_gr130        1082\n",
              "power_generation_of_turbine_gr90                                    811\n",
              "specific_heat_consumption_for_power_generation_of_turbine_gr130    1082\n",
              "specific_heat_consumption_for_power_generation_of_turbine_gr90      812\n",
              "specific_reference_fuel_consumption_for_power_release_gr90          816\n",
              "steam_consumption_to_the_turbine_condenser_3                        199\n",
              "steam_consumption_to_the_turbine_condenser_4                        272\n",
              "steam_consumption_to_the_turbine_condenser_5                        411\n",
              "steam_consumption_to_the_turbine_condenser_6                        786\n",
              "steam_consumption_to_the_turbine_condenser_7                        605\n",
              "steam_consumption_to_the_turbine_condenser_8                        547\n",
              "fresh_steam_consumption_of_turbine_3                                209\n",
              "fresh_steam_consumption_of_turbine_4                                285\n",
              "fresh_steam_consumption_of_turbine_5                                441\n",
              "average_fresh_steam_consumption_of_turbine_6                        808\n",
              "average_fresh_steam_consumption_of_turbine_7                        639\n",
              "average_fresh_steam_consumption_of_turbine_8                        581\n",
              "fuel_consumption_in_conditional_calculation_of_KA_10                419\n",
              "fuel_consumption_in_conditional_calculation_of_KA_11                357\n",
              "fuel_consumption_in_conditional_calculation_of_KA_12                379\n",
              "fuel_consumption_in_conditional_calculation_of_KA_5                 128\n",
              "fuel_consumption_in_conditional_calculation_of_KA_6                 167\n",
              "fuel_consumption_in_conditional_calculation_of_KA_7                 216\n",
              "fuel_consumption_in_conditional_calculation_of_KA_8                 195\n",
              "fuel_consumption_in_conditional_calculation_of_KA_9                 371\n",
              "average_superheated_steam_consumption_of_KA_10                      771\n",
              "average_superheated_steam_consumption_of_KA_11                      676\n",
              "average_superheated_steam_consumption_of_KA_12                      636\n",
              "average_superheated_steam_consumption_of_KA_5                       250\n",
              "average_superheated_steam_consumption_of_KA_6                       309\n",
              "average_superheated_steam_consumption_of_KA_7                       519\n",
              "average_superheated_steam_consumption_of_KA_8                       409\n",
              "average_superheated_steam_consumption_of_KA_9                       651\n",
              "heat_release_from_TO_turbine_gr90                                   597\n",
              "heat_release_from_TO_turbine_3                                      169\n",
              "heat_release_from_TO_turbine_4                                      224\n",
              "heat_release_from_TO_turbine_5                                      393\n",
              "heat_release_from_TO_turbine_6                                      729\n",
              "heat_release_from_TO_turbine_7                                      581\n",
              "heat_release_from_TO_turbine_8                                      533\n",
              "dtype: int64"
            ]
          },
          "metadata": {},
          "execution_count": 95
        }
      ]
    },
    {
      "cell_type": "markdown",
      "source": [
        "## Изменение файла page3"
      ],
      "metadata": {
        "id": "SoK7gh1Pf36k"
      }
    },
    {
      "cell_type": "code",
      "source": [
        "page3 = pd.read_csv('page3.csv')"
      ],
      "metadata": {
        "id": "YZR4crpgv87J"
      },
      "execution_count": null,
      "outputs": []
    },
    {
      "cell_type": "code",
      "source": [
        "page3 = page3.drop('Unnamed: 0', axis=1)"
      ],
      "metadata": {
        "id": "DDrmMf1mw8pJ"
      },
      "execution_count": null,
      "outputs": []
    },
    {
      "cell_type": "code",
      "source": [
        "page3 = page3.rename(columns={\"Дата\": \"date\",\n",
        "                              \"Выработка электроэнергии ТА гр.130\": \"power_generation_of_turbine_gr130\",\n",
        "                              \"Отпуск тепла из ТО ТА гр.130\": \"heat_release_from_TO_turbine_gr130\",\n",
        "                              \"Удельный расход условного топлива на отпуск э/э гр.130\":\n",
        "                              \"specific_reference_fuel_consumption_for_power_release_gr130\",\n",
        "                              \"Расход свежего пара ТА №3\": \"fresh_steam_consumption_of_turbine_3\",\n",
        "                              \"x='Выработка электроэнергии ТА гр.130', y='Отпуск тепла из ТО ТА гр.130',             z='Удельный расход условного топлива на отпуск э/э гр.130')\":\n",
        "                              \"function\"})"
      ],
      "metadata": {
        "id": "rDDOWtHIxDAu"
      },
      "execution_count": null,
      "outputs": []
    },
    {
      "cell_type": "code",
      "source": [
        "page3.nunique()"
      ],
      "metadata": {
        "colab": {
          "base_uri": "https://localhost:8080/"
        },
        "id": "P15SJD8RwpPA",
        "outputId": "13a30465-4830-4094-cb75-4478e56f2d38"
      },
      "execution_count": null,
      "outputs": [
        {
          "output_type": "execute_result",
          "data": {
            "text/plain": [
              "date                                                           609\n",
              "power_generation_of_turbine_gr130                              601\n",
              "heat_release_from_TO_turbine_gr130                             540\n",
              "specific_reference_fuel_consumption_for_power_release_gr130    561\n",
              "fresh_steam_consumption_of_turbine_3                            77\n",
              "function                                                       609\n",
              "0.09106291180692193                                            609\n",
              "dtype: int64"
            ]
          },
          "metadata": {},
          "execution_count": 100
        }
      ]
    },
    {
      "cell_type": "markdown",
      "source": [
        "## Изменение файла page5"
      ],
      "metadata": {
        "id": "g6bHgBicf7jV"
      }
    },
    {
      "cell_type": "code",
      "source": [
        "page5 = pd.read_csv('page5.csv')"
      ],
      "metadata": {
        "id": "CoTy6eqawtBu"
      },
      "execution_count": null,
      "outputs": []
    },
    {
      "cell_type": "code",
      "source": [
        "page5 = page5.drop('Unnamed: 0', axis=1)\n",
        "page5 = page5.drop('Unnamed: 4', axis=1)"
      ],
      "metadata": {
        "id": "jnT1Wsjw0Orz"
      },
      "execution_count": null,
      "outputs": []
    },
    {
      "cell_type": "code",
      "source": [
        "page5 = page5.rename(columns={\"Дата\": \"date\",\n",
        "                              \"Выработка электроэнергии ТА гр.130\": \"power_generation_of_turbine_gr130\",\n",
        "                              \"Отпуск тепла из ТО ТА гр.130\": \"heat_release_from_TO_turbine_gr130\",\n",
        "                              \"Удельный расход условного топлива на отпуск э/э гр.130\":\n",
        "                              \"specific_reference_fuel_consumption_for_power_release_gr130\",\n",
        "                              \"Выработка электроэнергии ТА гр.130.1\": \"power_generation_of_turbine_gr130_1\",\n",
        "                              \"Отпуск тепла из ТО ТА гр.130.1\": \"heat_release_from_TO_turbine_gr130_1\",\n",
        "                              \"Удельный расход условного топлива на отпуск э/э гр.130.1\":\n",
        "                              \"specific_reference_fuel_consumption_for_power_release_gr130_1\"})"
      ],
      "metadata": {
        "id": "DRC-pfXZ0f7G"
      },
      "execution_count": null,
      "outputs": []
    },
    {
      "cell_type": "code",
      "source": [
        "page5.nunique()"
      ],
      "metadata": {
        "colab": {
          "base_uri": "https://localhost:8080/"
        },
        "id": "sgum36Ck0UGF",
        "outputId": "067a1ca6-45f8-46d4-d51e-adacd3297956"
      },
      "execution_count": null,
      "outputs": [
        {
          "output_type": "execute_result",
          "data": {
            "text/plain": [
              "date                                                             1341\n",
              "power_generation_of_turbine_gr130                                 808\n",
              "heat_release_from_TO_turbine_gr130                                729\n",
              "specific_reference_fuel_consumption_for_power_release_gr130       786\n",
              "power_generation_of_turbine_gr130_1                               790\n",
              "heat_release_from_TO_turbine_gr130_1                              712\n",
              "specific_reference_fuel_consumption_for_power_release_gr130_1     769\n",
              "dtype: int64"
            ]
          },
          "metadata": {},
          "execution_count": 105
        }
      ]
    },
    {
      "cell_type": "markdown",
      "source": [
        "## Изменение файла page6"
      ],
      "metadata": {
        "id": "hD6UARtVgCpz"
      }
    },
    {
      "cell_type": "code",
      "source": [
        "page6 = pd.read_csv('page6.csv')"
      ],
      "metadata": {
        "id": "rbTpSUTQ0V6o"
      },
      "execution_count": null,
      "outputs": []
    },
    {
      "cell_type": "code",
      "source": [
        "page6 = page6.drop('Unnamed: 0', axis=1)"
      ],
      "metadata": {
        "id": "j-dZ_HM48lsZ"
      },
      "execution_count": null,
      "outputs": []
    },
    {
      "cell_type": "code",
      "source": [
        "page6 = page6.rename(columns={\"Дата\": \"date\",\n",
        "                              \"Выработка электроэнергии ТА гр.130\": \"power_generation_of_turbine_gr130\",\n",
        "                              \"Отпуск тепла из ТО ТА гр.130\": \"heat_release_from_TO_turbine_gr130\",\n",
        "                              \"Удельный расход условного топлива на отпуск э/э гр.130\":\n",
        "                              \"specific_reference_fuel_consumption_for_power_release_gr130\",\n",
        "                              \"Расход свежего пара ТА №3\": \"fresh_steam_consumption_of_turbine_3\"})"
      ],
      "metadata": {
        "id": "PWhda5D68p_b"
      },
      "execution_count": null,
      "outputs": []
    },
    {
      "cell_type": "code",
      "source": [
        "page6.nunique()"
      ],
      "metadata": {
        "colab": {
          "base_uri": "https://localhost:8080/"
        },
        "id": "cG-co9jQ8sDi",
        "outputId": "b1c6feb5-59a0-4593-a9a8-ac7fa3c6236c"
      },
      "execution_count": null,
      "outputs": [
        {
          "output_type": "execute_result",
          "data": {
            "text/plain": [
              "date                                                           859\n",
              "power_generation_of_turbine_gr130                              790\n",
              "heat_release_from_TO_turbine_gr130                             712\n",
              "specific_reference_fuel_consumption_for_power_release_gr130    769\n",
              "fresh_steam_consumption_of_turbine_3                            24\n",
              "dtype: int64"
            ]
          },
          "metadata": {},
          "execution_count": 110
        }
      ]
    },
    {
      "cell_type": "markdown",
      "source": [
        "## Изменение файла page8"
      ],
      "metadata": {
        "id": "OsMvBlQAgF8w"
      }
    },
    {
      "cell_type": "code",
      "source": [
        "page8 = pd.read_csv('page8.csv')"
      ],
      "metadata": {
        "id": "Oyeun5_J8ti1"
      },
      "execution_count": null,
      "outputs": []
    },
    {
      "cell_type": "code",
      "source": [
        "page8 = page8.drop('Unnamed: 0', axis=1)"
      ],
      "metadata": {
        "id": "N1FCePTm9Ixx"
      },
      "execution_count": null,
      "outputs": []
    },
    {
      "cell_type": "code",
      "source": [
        "page8 = page8.rename(columns={\"Дата\": \"date\",\n",
        "                              \"Выработка электроэнергии ТА гр.130\": \"power_generation_of_turbine_gr130\",\n",
        "                              \"Отпуск тепла из ТО ТА гр.130\": \"heat_release_from_TO_turbine_gr130\",\n",
        "                              \"Удельный расход условного топлива на отпуск э/э гр.130\":\n",
        "                              \"specific_reference_fuel_consumption_for_power_release_gr130\"})"
      ],
      "metadata": {
        "id": "z3tp0KvB9NqL"
      },
      "execution_count": null,
      "outputs": []
    },
    {
      "cell_type": "code",
      "source": [
        "page8.nunique()"
      ],
      "metadata": {
        "colab": {
          "base_uri": "https://localhost:8080/"
        },
        "id": "MW2N7tVk9MNK",
        "outputId": "e3c627f4-ea20-4f04-895c-418378a55167"
      },
      "execution_count": null,
      "outputs": [
        {
          "output_type": "execute_result",
          "data": {
            "text/plain": [
              "date                                                           859\n",
              "power_generation_of_turbine_gr130                              790\n",
              "heat_release_from_TO_turbine_gr130                             712\n",
              "specific_reference_fuel_consumption_for_power_release_gr130    769\n",
              "dtype: int64"
            ]
          },
          "metadata": {},
          "execution_count": 115
        }
      ]
    },
    {
      "cell_type": "code",
      "source": [
        "db.to_csv('db_new.csv', index=False)"
      ],
      "metadata": {
        "id": "iAPYsRbq9O9U"
      },
      "execution_count": null,
      "outputs": []
    },
    {
      "cell_type": "markdown",
      "source": [
        "## Выгрузка измененных таблиц"
      ],
      "metadata": {
        "id": "AbWC7VYYgJez"
      }
    },
    {
      "cell_type": "code",
      "source": [
        "page2_normal_1.to_csv('page2_new.csv', index=False)"
      ],
      "metadata": {
        "id": "f4Td_iW5-VwU"
      },
      "execution_count": null,
      "outputs": []
    },
    {
      "cell_type": "code",
      "source": [
        "page3.to_csv('page3_new.csv', index=False)"
      ],
      "metadata": {
        "id": "YOhlTPxT-a4z"
      },
      "execution_count": null,
      "outputs": []
    },
    {
      "cell_type": "code",
      "source": [
        "page5.to_csv('page5_new.csv', index=False)"
      ],
      "metadata": {
        "id": "nekbrJ-l-bOb"
      },
      "execution_count": null,
      "outputs": []
    },
    {
      "cell_type": "code",
      "source": [
        "page6.to_csv('page6_new.csv', index=False)"
      ],
      "metadata": {
        "id": "GeirPzxv_eXC"
      },
      "execution_count": null,
      "outputs": []
    },
    {
      "cell_type": "code",
      "source": [
        "page8.to_csv('page8_new.csv', index=False)"
      ],
      "metadata": {
        "id": "-1Fcfsez_h19"
      },
      "execution_count": null,
      "outputs": []
    },
    {
      "cell_type": "code",
      "source": [],
      "metadata": {
        "id": "ajjBVKmC_lA8"
      },
      "execution_count": null,
      "outputs": []
    }
  ]
}
